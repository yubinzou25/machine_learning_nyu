{
 "cells": [
  {
   "cell_type": "markdown",
   "metadata": {},
   "source": [
    "# Predicting Video Game Sales"
   ]
  },
  {
   "cell_type": "markdown",
   "metadata": {},
   "source": [
    "At a whopping USD 138 billion per year, the video game industry has by now vastly outpaced the music and movie industry combined. For instance, one of the best generating box office opening (Avengers: Infinity Wars) generated about USD 259 million. In comparison, Grand Theft Auto V reached USD 818 million in sales in the first 24 hours.\n",
    "\n",
    "Even so, the gaming industry suffers from the same problems as the music and movie industries: it's a hit-driven business, meaning that the great majority of the video game industry's software releases have been commercial failures.\n",
    "\n",
    "In this scenario, we will investigate whether or not we can predict if a game will be a hit ... or not."
   ]
  },
  {
   "cell_type": "markdown",
   "metadata": {},
   "source": [
    "# Submission"
   ]
  },
  {
   "cell_type": "markdown",
   "metadata": {},
   "source": [
    "In order to submit on gradescope, you need to submit the following:\n",
    "- the homework jupyter notebook it self ```hw6.ipynb```\n",
    "- the pdf generated from the notebook, you can get the pdf from ```File->Print Preview```"
   ]
  },
  {
   "cell_type": "code",
   "execution_count": 1,
   "metadata": {
    "pycharm": {
     "is_executing": true
    }
   },
   "outputs": [],
   "source": [
    "\n",
    "import numpy as np \n",
    "import pandas as pd\n",
    "import seaborn as sns\n",
    "import matplotlib.pyplot as plt\n",
    "\n",
    "%matplotlib inline"
   ]
  },
  {
   "cell_type": "markdown",
   "metadata": {},
   "source": [
    "# 1. Load the data"
   ]
  },
  {
   "cell_type": "code",
   "execution_count": 2,
   "metadata": {
    "pycharm": {
     "is_executing": true
    }
   },
   "outputs": [
    {
     "data": {
      "text/html": [
       "<div>\n",
       "<style scoped>\n",
       "    .dataframe tbody tr th:only-of-type {\n",
       "        vertical-align: middle;\n",
       "    }\n",
       "\n",
       "    .dataframe tbody tr th {\n",
       "        vertical-align: top;\n",
       "    }\n",
       "\n",
       "    .dataframe thead th {\n",
       "        text-align: right;\n",
       "    }\n",
       "</style>\n",
       "<table border=\"1\" class=\"dataframe\">\n",
       "  <thead>\n",
       "    <tr style=\"text-align: right;\">\n",
       "      <th></th>\n",
       "      <th>Name</th>\n",
       "      <th>Platform</th>\n",
       "      <th>Year_of_Release</th>\n",
       "      <th>Genre</th>\n",
       "      <th>Global_Sales</th>\n",
       "      <th>Critic_Score</th>\n",
       "      <th>Critic_Count</th>\n",
       "      <th>User_Score</th>\n",
       "      <th>Rating</th>\n",
       "      <th>Player0_Rating</th>\n",
       "      <th>...</th>\n",
       "      <th>Player10_Rating</th>\n",
       "      <th>Player11_Rating</th>\n",
       "      <th>Player12_Rating</th>\n",
       "      <th>Player13_Rating</th>\n",
       "      <th>Player14_Rating</th>\n",
       "      <th>Player15_Rating</th>\n",
       "      <th>Player16_Rating</th>\n",
       "      <th>Player17_Rating</th>\n",
       "      <th>Player18_Rating</th>\n",
       "      <th>Player19_Rating</th>\n",
       "    </tr>\n",
       "  </thead>\n",
       "  <tbody>\n",
       "    <tr>\n",
       "      <th>0</th>\n",
       "      <td>EverGrace</td>\n",
       "      <td>PS2</td>\n",
       "      <td>2000.0</td>\n",
       "      <td>Role-Playing</td>\n",
       "      <td>0.35</td>\n",
       "      <td>59.0</td>\n",
       "      <td>12.0</td>\n",
       "      <td>7.8</td>\n",
       "      <td>T</td>\n",
       "      <td>133.158650</td>\n",
       "      <td>...</td>\n",
       "      <td>57.665713</td>\n",
       "      <td>-33.266424</td>\n",
       "      <td>61.475556</td>\n",
       "      <td>14.057871</td>\n",
       "      <td>-45.129118</td>\n",
       "      <td>72.393172</td>\n",
       "      <td>118.762244</td>\n",
       "      <td>126.136540</td>\n",
       "      <td>-118.843764</td>\n",
       "      <td>-29.980012</td>\n",
       "    </tr>\n",
       "    <tr>\n",
       "      <th>1</th>\n",
       "      <td>Spider-Man</td>\n",
       "      <td>PS</td>\n",
       "      <td>2000.0</td>\n",
       "      <td>Action</td>\n",
       "      <td>3.13</td>\n",
       "      <td>87.0</td>\n",
       "      <td>19.0</td>\n",
       "      <td>9.0</td>\n",
       "      <td>E</td>\n",
       "      <td>71.527897</td>\n",
       "      <td>...</td>\n",
       "      <td>29.303636</td>\n",
       "      <td>11.642698</td>\n",
       "      <td>41.533339</td>\n",
       "      <td>123.124881</td>\n",
       "      <td>15.502932</td>\n",
       "      <td>-37.045746</td>\n",
       "      <td>0.629941</td>\n",
       "      <td>-57.932255</td>\n",
       "      <td>-10.307351</td>\n",
       "      <td>156.520977</td>\n",
       "    </tr>\n",
       "    <tr>\n",
       "      <th>2</th>\n",
       "      <td>World Destruction League: Thunder Tanks</td>\n",
       "      <td>PS</td>\n",
       "      <td>2000.0</td>\n",
       "      <td>Action</td>\n",
       "      <td>0.17</td>\n",
       "      <td>35.0</td>\n",
       "      <td>4.0</td>\n",
       "      <td>1.2</td>\n",
       "      <td>T</td>\n",
       "      <td>-154.540029</td>\n",
       "      <td>...</td>\n",
       "      <td>-8.759464</td>\n",
       "      <td>41.054869</td>\n",
       "      <td>-31.947248</td>\n",
       "      <td>21.670272</td>\n",
       "      <td>-49.836887</td>\n",
       "      <td>-131.333637</td>\n",
       "      <td>48.603401</td>\n",
       "      <td>-30.542838</td>\n",
       "      <td>85.473778</td>\n",
       "      <td>-22.211732</td>\n",
       "    </tr>\n",
       "    <tr>\n",
       "      <th>3</th>\n",
       "      <td>The Sims</td>\n",
       "      <td>PC</td>\n",
       "      <td>2000.0</td>\n",
       "      <td>Simulation</td>\n",
       "      <td>0.05</td>\n",
       "      <td>92.0</td>\n",
       "      <td>38.0</td>\n",
       "      <td>7.9</td>\n",
       "      <td>T</td>\n",
       "      <td>-0.838385</td>\n",
       "      <td>...</td>\n",
       "      <td>-88.551848</td>\n",
       "      <td>6.941876</td>\n",
       "      <td>59.678162</td>\n",
       "      <td>-41.710075</td>\n",
       "      <td>137.404091</td>\n",
       "      <td>-56.414104</td>\n",
       "      <td>-30.806495</td>\n",
       "      <td>-79.254849</td>\n",
       "      <td>101.767612</td>\n",
       "      <td>91.455925</td>\n",
       "    </tr>\n",
       "    <tr>\n",
       "      <th>4</th>\n",
       "      <td>Street Fighter EX3</td>\n",
       "      <td>PS2</td>\n",
       "      <td>2000.0</td>\n",
       "      <td>Fighting</td>\n",
       "      <td>0.85</td>\n",
       "      <td>64.0</td>\n",
       "      <td>17.0</td>\n",
       "      <td>7.9</td>\n",
       "      <td>T</td>\n",
       "      <td>62.133597</td>\n",
       "      <td>...</td>\n",
       "      <td>-100.122820</td>\n",
       "      <td>18.085152</td>\n",
       "      <td>38.614088</td>\n",
       "      <td>-10.236145</td>\n",
       "      <td>140.736240</td>\n",
       "      <td>-52.202478</td>\n",
       "      <td>9.647581</td>\n",
       "      <td>131.149693</td>\n",
       "      <td>121.277913</td>\n",
       "      <td>-7.295846</td>\n",
       "    </tr>\n",
       "    <tr>\n",
       "      <th>5</th>\n",
       "      <td>Resident Evil: Survivor</td>\n",
       "      <td>PS</td>\n",
       "      <td>2000.0</td>\n",
       "      <td>Action</td>\n",
       "      <td>0.71</td>\n",
       "      <td>39.0</td>\n",
       "      <td>10.0</td>\n",
       "      <td>7.0</td>\n",
       "      <td>M</td>\n",
       "      <td>-72.008556</td>\n",
       "      <td>...</td>\n",
       "      <td>123.610567</td>\n",
       "      <td>224.575470</td>\n",
       "      <td>197.288644</td>\n",
       "      <td>-54.808814</td>\n",
       "      <td>-111.203859</td>\n",
       "      <td>-147.050099</td>\n",
       "      <td>-73.944764</td>\n",
       "      <td>20.690349</td>\n",
       "      <td>-70.248031</td>\n",
       "      <td>-300.318330</td>\n",
       "    </tr>\n",
       "    <tr>\n",
       "      <th>6</th>\n",
       "      <td>NBA Live 2001</td>\n",
       "      <td>PS</td>\n",
       "      <td>2000.0</td>\n",
       "      <td>Sports</td>\n",
       "      <td>1.25</td>\n",
       "      <td>86.0</td>\n",
       "      <td>10.0</td>\n",
       "      <td>8.0</td>\n",
       "      <td>E</td>\n",
       "      <td>26.551159</td>\n",
       "      <td>...</td>\n",
       "      <td>2.827449</td>\n",
       "      <td>163.682106</td>\n",
       "      <td>236.012179</td>\n",
       "      <td>54.286971</td>\n",
       "      <td>-1.813431</td>\n",
       "      <td>-26.076748</td>\n",
       "      <td>41.819530</td>\n",
       "      <td>28.190020</td>\n",
       "      <td>-65.512286</td>\n",
       "      <td>30.322477</td>\n",
       "    </tr>\n",
       "    <tr>\n",
       "      <th>7</th>\n",
       "      <td>The Typing of the Dead</td>\n",
       "      <td>DC</td>\n",
       "      <td>2000.0</td>\n",
       "      <td>Shooter</td>\n",
       "      <td>0.05</td>\n",
       "      <td>83.0</td>\n",
       "      <td>12.0</td>\n",
       "      <td>7.8</td>\n",
       "      <td>M</td>\n",
       "      <td>10.854853</td>\n",
       "      <td>...</td>\n",
       "      <td>-21.116660</td>\n",
       "      <td>-188.189685</td>\n",
       "      <td>-99.448735</td>\n",
       "      <td>-16.042977</td>\n",
       "      <td>-10.633311</td>\n",
       "      <td>26.270690</td>\n",
       "      <td>-43.118861</td>\n",
       "      <td>-201.748563</td>\n",
       "      <td>-63.200047</td>\n",
       "      <td>183.670689</td>\n",
       "    </tr>\n",
       "    <tr>\n",
       "      <th>8</th>\n",
       "      <td>Mega Man X5</td>\n",
       "      <td>PS</td>\n",
       "      <td>2000.0</td>\n",
       "      <td>Platform</td>\n",
       "      <td>0.75</td>\n",
       "      <td>76.0</td>\n",
       "      <td>10.0</td>\n",
       "      <td>8.9</td>\n",
       "      <td>E</td>\n",
       "      <td>0.429143</td>\n",
       "      <td>...</td>\n",
       "      <td>87.052102</td>\n",
       "      <td>142.512376</td>\n",
       "      <td>-11.580142</td>\n",
       "      <td>4.272996</td>\n",
       "      <td>-60.080042</td>\n",
       "      <td>16.880748</td>\n",
       "      <td>-116.731683</td>\n",
       "      <td>-79.417328</td>\n",
       "      <td>62.262734</td>\n",
       "      <td>16.334662</td>\n",
       "    </tr>\n",
       "    <tr>\n",
       "      <th>9</th>\n",
       "      <td>Knockout Kings 2001</td>\n",
       "      <td>PS</td>\n",
       "      <td>2000.0</td>\n",
       "      <td>Fighting</td>\n",
       "      <td>0.41</td>\n",
       "      <td>84.0</td>\n",
       "      <td>11.0</td>\n",
       "      <td>8.5</td>\n",
       "      <td>T</td>\n",
       "      <td>-17.460021</td>\n",
       "      <td>...</td>\n",
       "      <td>56.935061</td>\n",
       "      <td>-0.581965</td>\n",
       "      <td>72.991809</td>\n",
       "      <td>90.244004</td>\n",
       "      <td>71.575002</td>\n",
       "      <td>146.583903</td>\n",
       "      <td>-72.373481</td>\n",
       "      <td>72.683651</td>\n",
       "      <td>-7.215038</td>\n",
       "      <td>110.647014</td>\n",
       "    </tr>\n",
       "  </tbody>\n",
       "</table>\n",
       "<p>10 rows × 29 columns</p>\n",
       "</div>"
      ],
      "text/plain": [
       "                                      Name Platform  Year_of_Release  \\\n",
       "0                                EverGrace      PS2           2000.0   \n",
       "1                               Spider-Man       PS           2000.0   \n",
       "2  World Destruction League: Thunder Tanks       PS           2000.0   \n",
       "3                                 The Sims       PC           2000.0   \n",
       "4                       Street Fighter EX3      PS2           2000.0   \n",
       "5                  Resident Evil: Survivor       PS           2000.0   \n",
       "6                            NBA Live 2001       PS           2000.0   \n",
       "7                   The Typing of the Dead       DC           2000.0   \n",
       "8                              Mega Man X5       PS           2000.0   \n",
       "9                      Knockout Kings 2001       PS           2000.0   \n",
       "\n",
       "          Genre  Global_Sales  Critic_Score  Critic_Count  User_Score Rating  \\\n",
       "0  Role-Playing          0.35          59.0          12.0         7.8      T   \n",
       "1        Action          3.13          87.0          19.0         9.0      E   \n",
       "2        Action          0.17          35.0           4.0         1.2      T   \n",
       "3    Simulation          0.05          92.0          38.0         7.9      T   \n",
       "4      Fighting          0.85          64.0          17.0         7.9      T   \n",
       "5        Action          0.71          39.0          10.0         7.0      M   \n",
       "6        Sports          1.25          86.0          10.0         8.0      E   \n",
       "7       Shooter          0.05          83.0          12.0         7.8      M   \n",
       "8      Platform          0.75          76.0          10.0         8.9      E   \n",
       "9      Fighting          0.41          84.0          11.0         8.5      T   \n",
       "\n",
       "   Player0_Rating  ...  Player10_Rating  Player11_Rating  Player12_Rating  \\\n",
       "0      133.158650  ...        57.665713       -33.266424        61.475556   \n",
       "1       71.527897  ...        29.303636        11.642698        41.533339   \n",
       "2     -154.540029  ...        -8.759464        41.054869       -31.947248   \n",
       "3       -0.838385  ...       -88.551848         6.941876        59.678162   \n",
       "4       62.133597  ...      -100.122820        18.085152        38.614088   \n",
       "5      -72.008556  ...       123.610567       224.575470       197.288644   \n",
       "6       26.551159  ...         2.827449       163.682106       236.012179   \n",
       "7       10.854853  ...       -21.116660      -188.189685       -99.448735   \n",
       "8        0.429143  ...        87.052102       142.512376       -11.580142   \n",
       "9      -17.460021  ...        56.935061        -0.581965        72.991809   \n",
       "\n",
       "   Player13_Rating  Player14_Rating  Player15_Rating  Player16_Rating  \\\n",
       "0        14.057871       -45.129118        72.393172       118.762244   \n",
       "1       123.124881        15.502932       -37.045746         0.629941   \n",
       "2        21.670272       -49.836887      -131.333637        48.603401   \n",
       "3       -41.710075       137.404091       -56.414104       -30.806495   \n",
       "4       -10.236145       140.736240       -52.202478         9.647581   \n",
       "5       -54.808814      -111.203859      -147.050099       -73.944764   \n",
       "6        54.286971        -1.813431       -26.076748        41.819530   \n",
       "7       -16.042977       -10.633311        26.270690       -43.118861   \n",
       "8         4.272996       -60.080042        16.880748      -116.731683   \n",
       "9        90.244004        71.575002       146.583903       -72.373481   \n",
       "\n",
       "   Player17_Rating  Player18_Rating  Player19_Rating  \n",
       "0       126.136540      -118.843764       -29.980012  \n",
       "1       -57.932255       -10.307351       156.520977  \n",
       "2       -30.542838        85.473778       -22.211732  \n",
       "3       -79.254849       101.767612        91.455925  \n",
       "4       131.149693       121.277913        -7.295846  \n",
       "5        20.690349       -70.248031      -300.318330  \n",
       "6        28.190020       -65.512286        30.322477  \n",
       "7      -201.748563       -63.200047       183.670689  \n",
       "8       -79.417328        62.262734        16.334662  \n",
       "9        72.683651        -7.215038       110.647014  \n",
       "\n",
       "[10 rows x 29 columns]"
      ]
     },
     "execution_count": 2,
     "metadata": {},
     "output_type": "execute_result"
    }
   ],
   "source": [
    "df = pd.read_csv(\"VideoGameSales.csv\")\n",
    "df.head(10)"
   ]
  },
  {
   "cell_type": "markdown",
   "metadata": {},
   "source": [
    "Note that the name column is just an index column, so we will remove it as we would not use it for predictions."
   ]
  },
  {
   "cell_type": "code",
   "execution_count": 3,
   "metadata": {
    "pycharm": {
     "is_executing": true
    }
   },
   "outputs": [
    {
     "data": {
      "text/html": [
       "<div>\n",
       "<style scoped>\n",
       "    .dataframe tbody tr th:only-of-type {\n",
       "        vertical-align: middle;\n",
       "    }\n",
       "\n",
       "    .dataframe tbody tr th {\n",
       "        vertical-align: top;\n",
       "    }\n",
       "\n",
       "    .dataframe thead th {\n",
       "        text-align: right;\n",
       "    }\n",
       "</style>\n",
       "<table border=\"1\" class=\"dataframe\">\n",
       "  <thead>\n",
       "    <tr style=\"text-align: right;\">\n",
       "      <th></th>\n",
       "      <th>Platform</th>\n",
       "      <th>Year_of_Release</th>\n",
       "      <th>Genre</th>\n",
       "      <th>Global_Sales</th>\n",
       "      <th>Critic_Score</th>\n",
       "      <th>Critic_Count</th>\n",
       "      <th>User_Score</th>\n",
       "      <th>Rating</th>\n",
       "      <th>Player0_Rating</th>\n",
       "      <th>Player1_Rating</th>\n",
       "      <th>...</th>\n",
       "      <th>Player10_Rating</th>\n",
       "      <th>Player11_Rating</th>\n",
       "      <th>Player12_Rating</th>\n",
       "      <th>Player13_Rating</th>\n",
       "      <th>Player14_Rating</th>\n",
       "      <th>Player15_Rating</th>\n",
       "      <th>Player16_Rating</th>\n",
       "      <th>Player17_Rating</th>\n",
       "      <th>Player18_Rating</th>\n",
       "      <th>Player19_Rating</th>\n",
       "    </tr>\n",
       "  </thead>\n",
       "  <tbody>\n",
       "    <tr>\n",
       "      <th>0</th>\n",
       "      <td>PS2</td>\n",
       "      <td>2000.0</td>\n",
       "      <td>Role-Playing</td>\n",
       "      <td>0.35</td>\n",
       "      <td>59.0</td>\n",
       "      <td>12.0</td>\n",
       "      <td>7.8</td>\n",
       "      <td>T</td>\n",
       "      <td>133.158650</td>\n",
       "      <td>-95.003397</td>\n",
       "      <td>...</td>\n",
       "      <td>57.665713</td>\n",
       "      <td>-33.266424</td>\n",
       "      <td>61.475556</td>\n",
       "      <td>14.057871</td>\n",
       "      <td>-45.129118</td>\n",
       "      <td>72.393172</td>\n",
       "      <td>118.762244</td>\n",
       "      <td>126.136540</td>\n",
       "      <td>-118.843764</td>\n",
       "      <td>-29.980012</td>\n",
       "    </tr>\n",
       "    <tr>\n",
       "      <th>1</th>\n",
       "      <td>PS</td>\n",
       "      <td>2000.0</td>\n",
       "      <td>Action</td>\n",
       "      <td>3.13</td>\n",
       "      <td>87.0</td>\n",
       "      <td>19.0</td>\n",
       "      <td>9.0</td>\n",
       "      <td>E</td>\n",
       "      <td>71.527897</td>\n",
       "      <td>-111.431914</td>\n",
       "      <td>...</td>\n",
       "      <td>29.303636</td>\n",
       "      <td>11.642698</td>\n",
       "      <td>41.533339</td>\n",
       "      <td>123.124881</td>\n",
       "      <td>15.502932</td>\n",
       "      <td>-37.045746</td>\n",
       "      <td>0.629941</td>\n",
       "      <td>-57.932255</td>\n",
       "      <td>-10.307351</td>\n",
       "      <td>156.520977</td>\n",
       "    </tr>\n",
       "    <tr>\n",
       "      <th>2</th>\n",
       "      <td>PS</td>\n",
       "      <td>2000.0</td>\n",
       "      <td>Action</td>\n",
       "      <td>0.17</td>\n",
       "      <td>35.0</td>\n",
       "      <td>4.0</td>\n",
       "      <td>1.2</td>\n",
       "      <td>T</td>\n",
       "      <td>-154.540029</td>\n",
       "      <td>-74.446175</td>\n",
       "      <td>...</td>\n",
       "      <td>-8.759464</td>\n",
       "      <td>41.054869</td>\n",
       "      <td>-31.947248</td>\n",
       "      <td>21.670272</td>\n",
       "      <td>-49.836887</td>\n",
       "      <td>-131.333637</td>\n",
       "      <td>48.603401</td>\n",
       "      <td>-30.542838</td>\n",
       "      <td>85.473778</td>\n",
       "      <td>-22.211732</td>\n",
       "    </tr>\n",
       "    <tr>\n",
       "      <th>3</th>\n",
       "      <td>PC</td>\n",
       "      <td>2000.0</td>\n",
       "      <td>Simulation</td>\n",
       "      <td>0.05</td>\n",
       "      <td>92.0</td>\n",
       "      <td>38.0</td>\n",
       "      <td>7.9</td>\n",
       "      <td>T</td>\n",
       "      <td>-0.838385</td>\n",
       "      <td>-14.317814</td>\n",
       "      <td>...</td>\n",
       "      <td>-88.551848</td>\n",
       "      <td>6.941876</td>\n",
       "      <td>59.678162</td>\n",
       "      <td>-41.710075</td>\n",
       "      <td>137.404091</td>\n",
       "      <td>-56.414104</td>\n",
       "      <td>-30.806495</td>\n",
       "      <td>-79.254849</td>\n",
       "      <td>101.767612</td>\n",
       "      <td>91.455925</td>\n",
       "    </tr>\n",
       "    <tr>\n",
       "      <th>4</th>\n",
       "      <td>PS2</td>\n",
       "      <td>2000.0</td>\n",
       "      <td>Fighting</td>\n",
       "      <td>0.85</td>\n",
       "      <td>64.0</td>\n",
       "      <td>17.0</td>\n",
       "      <td>7.9</td>\n",
       "      <td>T</td>\n",
       "      <td>62.133597</td>\n",
       "      <td>-136.736470</td>\n",
       "      <td>...</td>\n",
       "      <td>-100.122820</td>\n",
       "      <td>18.085152</td>\n",
       "      <td>38.614088</td>\n",
       "      <td>-10.236145</td>\n",
       "      <td>140.736240</td>\n",
       "      <td>-52.202478</td>\n",
       "      <td>9.647581</td>\n",
       "      <td>131.149693</td>\n",
       "      <td>121.277913</td>\n",
       "      <td>-7.295846</td>\n",
       "    </tr>\n",
       "  </tbody>\n",
       "</table>\n",
       "<p>5 rows × 28 columns</p>\n",
       "</div>"
      ],
      "text/plain": [
       "  Platform  Year_of_Release         Genre  Global_Sales  Critic_Score  \\\n",
       "0      PS2           2000.0  Role-Playing          0.35          59.0   \n",
       "1       PS           2000.0        Action          3.13          87.0   \n",
       "2       PS           2000.0        Action          0.17          35.0   \n",
       "3       PC           2000.0    Simulation          0.05          92.0   \n",
       "4      PS2           2000.0      Fighting          0.85          64.0   \n",
       "\n",
       "   Critic_Count  User_Score Rating  Player0_Rating  Player1_Rating  ...  \\\n",
       "0          12.0         7.8      T      133.158650      -95.003397  ...   \n",
       "1          19.0         9.0      E       71.527897     -111.431914  ...   \n",
       "2           4.0         1.2      T     -154.540029      -74.446175  ...   \n",
       "3          38.0         7.9      T       -0.838385      -14.317814  ...   \n",
       "4          17.0         7.9      T       62.133597     -136.736470  ...   \n",
       "\n",
       "   Player10_Rating  Player11_Rating  Player12_Rating  Player13_Rating  \\\n",
       "0        57.665713       -33.266424        61.475556        14.057871   \n",
       "1        29.303636        11.642698        41.533339       123.124881   \n",
       "2        -8.759464        41.054869       -31.947248        21.670272   \n",
       "3       -88.551848         6.941876        59.678162       -41.710075   \n",
       "4      -100.122820        18.085152        38.614088       -10.236145   \n",
       "\n",
       "   Player14_Rating  Player15_Rating  Player16_Rating  Player17_Rating  \\\n",
       "0       -45.129118        72.393172       118.762244       126.136540   \n",
       "1        15.502932       -37.045746         0.629941       -57.932255   \n",
       "2       -49.836887      -131.333637        48.603401       -30.542838   \n",
       "3       137.404091       -56.414104       -30.806495       -79.254849   \n",
       "4       140.736240       -52.202478         9.647581       131.149693   \n",
       "\n",
       "   Player18_Rating  Player19_Rating  \n",
       "0      -118.843764       -29.980012  \n",
       "1       -10.307351       156.520977  \n",
       "2        85.473778       -22.211732  \n",
       "3       101.767612        91.455925  \n",
       "4       121.277913        -7.295846  \n",
       "\n",
       "[5 rows x 28 columns]"
      ]
     },
     "execution_count": 3,
     "metadata": {},
     "output_type": "execute_result"
    }
   ],
   "source": [
    "df = df.drop(['Name'],axis =1)\n",
    "df.head()"
   ]
  },
  {
   "cell_type": "markdown",
   "metadata": {},
   "source": [
    "# 2. Data Overview"
   ]
  },
  {
   "cell_type": "markdown",
   "metadata": {},
   "source": [
    "The dataframe contains 7 variables which we will use to predict the Global Sales (continuous). We are therefore dealing with a multi-variate regression problem. Before using ML to solve the problem, we want to have an overview of the data, so plotting is a good tool."
   ]
  },
  {
   "cell_type": "markdown",
   "metadata": {},
   "source": [
    "### 2.1 Sales each year"
   ]
  },
  {
   "cell_type": "markdown",
   "metadata": {},
   "source": [
    "We first would like to take a look at how global sales in general change every year, so we want to create a plot whose x-axis represents the year_of_release and y-axis represents the total_sale for each year.\n",
    "\n",
    "To create such plot, you might want to follow these steps:\n",
    "1. group the records by \"Year_of_Release\"\n",
    "2. extract the \"Global_Sales\" sum series\n",
    "3. apply plot() to the series\n",
    "\n",
    "You should be able to do this in one line of code using pandas.\n",
    "\n",
    "The following is how your plot should look like."
   ]
  },
  {
   "cell_type": "markdown",
   "metadata": {},
   "source": [
    "![avatar](./pictures/year-vs-sales.png)"
   ]
  },
  {
   "cell_type": "code",
   "execution_count": 4,
   "metadata": {},
   "outputs": [
    {
     "data": {
      "text/plain": [
       "<AxesSubplot:xlabel='Year_of_Release', ylabel='sales'>"
      ]
     },
     "execution_count": 4,
     "metadata": {},
     "output_type": "execute_result"
    },
    {
     "data": {
      "image/png": "[encoded data removed]",
      "text/plain": [
       "<Figure size 432x288 with 1 Axes>"
      ]
     },
     "metadata": {
      "needs_background": "light"
     },
     "output_type": "display_data"
    }
   ],
   "source": [
    "df.groupby(['Year_of_Release'])['Global_Sales'].sum().plot(ylabel='sales')"
   ]
  },
  {
   "cell_type": "markdown",
   "metadata": {},
   "source": [
    "### 2.2 Sales each genre"
   ]
  },
  {
   "cell_type": "markdown",
   "metadata": {},
   "source": [
    "Then we want to look at sales for each genre. We want to create a bar chart whose x-axis represents the sales for each genrn while the y-axis represents different genre.\n",
    "\n",
    "To create such plot, you might want to follow these steps:\n",
    "1. group the dataframe by \"Genre\"\n",
    "2. extract the \"Global_Sales\" sum series\n",
    "3. to get barplots, use .plot.barh() on this series\n",
    "\n",
    "You should be able to do this in one line of code using pandas.\n",
    "\n",
    "The following is how your plot should look like."
   ]
  },
  {
   "cell_type": "markdown",
   "metadata": {},
   "source": [
    "![avatar](./pictures/sales-per-genre.png)"
   ]
  },
  {
   "cell_type": "code",
   "execution_count": 5,
   "metadata": {},
   "outputs": [
    {
     "data": {
      "text/plain": [
       "<AxesSubplot:ylabel='Genre'>"
      ]
     },
     "execution_count": 5,
     "metadata": {},
     "output_type": "execute_result"
    },
    {
     "data": {
      "image/png": "[encoded data removed]",
      "text/plain": [
       "<Figure size 432x288 with 1 Axes>"
      ]
     },
     "metadata": {
      "needs_background": "light"
     },
     "output_type": "display_data"
    }
   ],
   "source": [
    "df.groupby(['Genre'])['Global_Sales'].sum().plot.barh()"
   ]
  },
  {
   "cell_type": "markdown",
   "metadata": {},
   "source": [
    "# 3. Train-Test split"
   ]
  },
  {
   "cell_type": "markdown",
   "metadata": {},
   "source": [
    "Before training the model, we would like to split the data set as the proper way of testing the validity of an algorithm is to have a test set and set it aside for future testing. We do not touch this test-set while training the model."
   ]
  },
  {
   "cell_type": "code",
   "execution_count": 6,
   "metadata": {},
   "outputs": [
    {
     "name": "stdout",
     "output_type": "stream",
     "text": [
      "Original: (6747, 59)\n",
      "Train:    (5397, 59) (5397,)\n",
      "Test:     (1350, 59) (1350,)\n"
     ]
    }
   ],
   "source": [
    "from sklearn.model_selection import train_test_split\n",
    "\n",
    "y = df[[\"Global_Sales\"]].values.ravel()\n",
    "\n",
    "# Generate dummies for all catagrical features\n",
    "X = pd.get_dummies(df.drop([\"Global_Sales\"], axis=1)).values\n",
    "\n",
    "X_train, X_test, y_train, y_test = train_test_split(X, y, test_size=0.20, random_state=0, shuffle=False)\n",
    "\n",
    "\n",
    "print(\"Original:\", X.shape)\n",
    "print(\"Train:   \", X_train.shape,y_train.shape)\n",
    "print(\"Test:    \", X_test.shape,y_test.shape)"
   ]
  },
  {
   "cell_type": "markdown",
   "metadata": {},
   "source": [
    "### Question: Note that we set the parameter shuffle=False when doing train-test split. Why is that?\n",
    "In this task, we want to apply historical data to predict whether a game will be hit in the future, so the dataset should be split like time-series set."
   ]
  },
  {
   "cell_type": "markdown",
   "metadata": {},
   "source": [
    "# 4. Base Model"
   ]
  },
  {
   "cell_type": "markdown",
   "metadata": {},
   "source": [
    "When we train some models, we always want a target to beat. Normally, we will use the constant model whose prediction of any given data is the mean of the train data, because our model should at least be better than this naive prediction, otherwise the model would be meaningless.  \n",
    "\n",
    "So we would like to know the MSE for the simple constant model, write down the code here."
   ]
  },
  {
   "cell_type": "code",
   "execution_count": 7,
   "metadata": {},
   "outputs": [
    {
     "name": "stdout",
     "output_type": "stream",
     "text": [
      "Constant MSE: 2.23\n"
     ]
    }
   ],
   "source": [
    "from sklearn.metrics import mean_squared_error\n",
    "\n",
    "constant_mse = mean_squared_error(y_test, np.array([y_train.mean()]*y_test.shape[0]))\n",
    "print(\"Constant MSE: %.2f\" % constant_mse)"
   ]
  },
  {
   "cell_type": "markdown",
   "metadata": {},
   "source": [
    "# 5. K Nearest Neighbours"
   ]
  },
  {
   "cell_type": "markdown",
   "metadata": {},
   "source": [
    "The first model we will look at is KNN Regression. sklearn has an implementation in ```sklearn.neighors```."
   ]
  },
  {
   "cell_type": "code",
   "execution_count": 8,
   "metadata": {},
   "outputs": [],
   "source": [
    "from sklearn.neighbors import KNeighborsRegressor"
   ]
  },
  {
   "cell_type": "markdown",
   "metadata": {},
   "source": [
    "Let's train some knn models with different ks and see their performace on test set. Complete the following:\n",
    "- Train knn models for k from 2 to 50.\n",
    "- Draw a curve representing the relationship between k and test mse.\n",
    "- Draw the test mse for the constant model on the same graph(this should be a horizontal line)."
   ]
  },
  {
   "cell_type": "code",
   "execution_count": 9,
   "metadata": {},
   "outputs": [],
   "source": [
    "test_mse_list = []\n",
    "k_range = range(2, 51)\n",
    "# train multiple knn models and record test mse\n",
    "for k in k_range:\n",
    "    KNN = KNeighborsRegressor(k)\n",
    "    KNN.fit(X_train, y_train)\n",
    "    X_pred = KNN.predict(X_test)\n",
    "    test_mse_list.append(mean_squared_error(y_test, X_pred))"
   ]
  },
  {
   "cell_type": "code",
   "execution_count": 10,
   "metadata": {},
   "outputs": [
    {
     "data": {
      "image/png": "[encoded data removed]",
      "text/plain": [
       "<Figure size 432x288 with 1 Axes>"
      ]
     },
     "metadata": {
      "needs_background": "light"
     },
     "output_type": "display_data"
    }
   ],
   "source": [
    "# make the plots\n",
    "plt.plot(k_range, test_mse_list, label=\"KNN\")\n",
    "plt.plot(k_range, [constant_mse]*len(k_range), label=\"constant\")\n",
    "plt.legend()\n",
    "plt.show()"
   ]
  },
  {
   "cell_type": "markdown",
   "metadata": {},
   "source": [
    "### Question: Compare the test mse for knn models with constant model, what do you find? How would you explain it?\n",
    "With K increasing, the knn becomes less flexible, so the test mse will approach to constant."
   ]
  },
  {
   "cell_type": "markdown",
   "metadata": {},
   "source": [
    "# 6. Regularized Regression Model"
   ]
  },
  {
   "cell_type": "markdown",
   "metadata": {},
   "source": [
    "Then we will look at regularized model. We've seen L1/L2 regularized linear models in lecture. Sklearn has an efficient SGD(Stochastic Gradient Descent) implementation called SGDRegressor where allow us to solve regularized linear regression.  \n",
    "\n",
    "Compared to direct solver, SGDRegressor has the following advantages:\n",
    "- Efficiency\n",
    "- Ease of implementation (lots of opportunities for code tuning).  \n",
    "\n",
    "SGDRegressor has the following disadvantages:\n",
    "- SGD requires a number of hyperparameters such as the regularization parameter and the number of iterations.\n",
    "- SGD is sensitive to feature scaling.\n",
    "  \n",
    "  \n",
    "The following is an example of using it and it shows some parameters that you can tune with:"
   ]
  },
  {
   "cell_type": "code",
   "execution_count": 11,
   "metadata": {},
   "outputs": [],
   "source": [
    "from sklearn.linear_model import SGDRegressor\n",
    "\n",
    "\n",
    "#limit the max_iter and set the random seed to fix the out put.\n",
    "sgd_model = SGDRegressor(\n",
    "    penalty=\"l1\",            # the type of regularization component to use, \n",
    "                             # l1 indicates Lasso and l2 indicats Ridge\n",
    "    max_iter=1000,           # maximal number of epochs\n",
    "    tol=1e-3,                # tolerance for the stopping condition (stops if it \n",
    "                             # can't improve the result more than tol), this speeds \n",
    "                             # up model building and is great for prototyping\n",
    "    alpha = 0.01,            # regularization strength, low = free model, high = controlled model\n",
    "    random_state=0           # random seed, fix the output, keep it 0 all the time in this hw\n",
    ")"
   ]
  },
  {
   "cell_type": "markdown",
   "metadata": {},
   "source": [
    "We are getting to a point where applying all the required steps for fitting a model is becoming cumbersome. Sklearn has a great feature called pipelines which allows you to apply all the necessary steps at once. For instance, consider a similar set-up to what we ended up with last time. We want to apply the following three steps:\n",
    "\n",
    "1. Scale the data using a StandardScaler\n",
    "2. Add polynomial features using PolynomialFeatures (in this section let's make degree=1)\n",
    "3. Train a linear model using SGDRegressor (in this section let's make penalty=l1 and alpha=0.01)"
   ]
  },
  {
   "cell_type": "markdown",
   "metadata": {},
   "source": [
    "![avatar](./pictures/pipeline.png)"
   ]
  },
  {
   "cell_type": "markdown",
   "metadata": {},
   "source": [
    "The following code implements this pipeline for our current dataset. Complete the pipeline and report the test mse.  \n",
    "\n",
    "Note: for all the sections below, whenever you train a SGDRegressor, please set the random seed to 0 to fix the output."
   ]
  },
  {
   "cell_type": "code",
   "execution_count": 12,
   "metadata": {},
   "outputs": [
    {
     "name": "stdout",
     "output_type": "stream",
     "text": [
      "the mse of L1 regulized regression is 1.99\n"
     ]
    }
   ],
   "source": [
    "from sklearn.pipeline import Pipeline\n",
    "from sklearn.linear_model import SGDRegressor\n",
    "from sklearn.preprocessing import PolynomialFeatures, StandardScaler\n",
    "from sklearn.metrics import mean_squared_error\n",
    "\n",
    "# Design the pipeline as a sequence of steps each step\n",
    "# is specified as a tuple ('name',model). We will refer\n",
    "# to this name later.\n",
    "pipeline = Pipeline([\n",
    "    (\"scaler\", StandardScaler()),\n",
    "    (\"poly\", PolynomialFeatures(degree=1)),\n",
    "    (\"model\", sgd_model \n",
    "    )\n",
    "])\n",
    "# Train using the whole pipeline using just 1 call!\n",
    "pipeline.fit(X_train, y_train)\n",
    "X_pred = pipeline.predict(X_test)\n",
    "\n",
    "# Report the MSE on test data\n",
    "l1_mse = mean_squared_error(y_test, X_pred)\n",
    "print(f\"the mse of L1 regulized regression is {l1_mse:.2f}\")"
   ]
  },
  {
   "cell_type": "markdown",
   "metadata": {},
   "source": [
    "# 7. Customized Cross Vlidation"
   ]
  },
  {
   "cell_type": "markdown",
   "metadata": {},
   "source": [
    "Whenever we would like to train models and select the best parameters for them, we need to set-up a validation set. This validation set will be used for tuning parameters exclusively. This is a step that is often done wrong by novices in ML: you should never validate your parameters on the test-set. Doing so would cherry-pick the best solution and suffer from overfitting/variance problems."
   ]
  },
  {
   "cell_type": "markdown",
   "metadata": {},
   "source": [
    "![avatar](./pictures/cross_validation.svg)"
   ]
  },
  {
   "cell_type": "markdown",
   "metadata": {},
   "source": [
    "This is how we've seen it until now. In many cases, however, we will want to test it repeatedly on different parts of the data to get a more reliable out-of-sample estimate."
   ]
  },
  {
   "cell_type": "markdown",
   "metadata": {},
   "source": [
    "![avatar](./pictures/grid_search_cross_validation.png)"
   ]
  },
  {
   "cell_type": "markdown",
   "metadata": {},
   "source": [
    "The final validation error is, therefore, a summary (mean) of 5 individual tests. In every test, we take a piece of the data out for the sake of validation (blue piece) and train on the remainder (green). This is how you should validate datasets without a time-component."
   ]
  },
  {
   "cell_type": "markdown",
   "metadata": {},
   "source": [
    "However, using this original way of kfold cv is also shuffling the data in some way and does not meet our requirement that we don't want to shuffle the data. In this case, we would want to split the data in the follwoing way instead:"
   ]
  },
  {
   "cell_type": "markdown",
   "metadata": {},
   "source": [
    "![avatar](./pictures/timeseriesval.png)"
   ]
  },
  {
   "cell_type": "markdown",
   "metadata": {},
   "source": [
    "The default ```KFold()``` class in sklearn.model_selection does not handle this case, so we want to implement it ourselves."
   ]
  },
  {
   "cell_type": "code",
   "execution_count": 13,
   "metadata": {},
   "outputs": [],
   "source": [
    "# Note that for k=5 we only do validation for 4(k-1) times\n",
    "# Input: data, an array inlucding all the train data you want to use for cv\n",
    "# Output: splits, a list of tuples in the form of (train_index, val_index), just as the kfold() in sklearn\n",
    "def customized_kfold(data, k):\n",
    "    n = data.shape[0] # we first get the number of data points we have for future sue\n",
    "    val_size = n//k\n",
    "    splits = []\n",
    "    for step in range(1, k):\n",
    "        splits.append((np.array(range(val_size*step)), np.array(range(val_size*step+1, val_size*(step+1)))))\n",
    "    return splits"
   ]
  },
  {
   "cell_type": "code",
   "execution_count": 14,
   "metadata": {},
   "outputs": [],
   "source": [
    "# The function for full cross validation\n",
    "# Input: X_train: full training X\n",
    "#        y_train: full training y\n",
    "#        k:       num of folds you want\n",
    "#        model:   the sklearn model that you would like to do cv on\n",
    "# Output: a tuple, (mean_train_mse, mean_val_mse)\n",
    "def kfold_cross_validation(X_train, y_train, k, model):\n",
    "    train_mse_list, val_mse_list = [], []\n",
    "    for train_index, val_index in customized_kfold(X_train, k):\n",
    "        X_train_sub, y_train_sub = X_train[train_index], y_train[train_index]\n",
    "        X_val_sub, y_val_sub = X_train[val_index], y_train[val_index]\n",
    "        model.fit(X_train_sub, y_train_sub)\n",
    "        train_mse_list.append(mean_squared_error(y_train_sub, model.predict(X_train_sub)))\n",
    "        val_mse_list.append(mean_squared_error(y_val_sub, model.predict(X_val_sub)))\n",
    "    mean_train_mse = np.mean(train_mse_list)\n",
    "    mean_val_mse = np.mean(val_mse_list)\n",
    "    return (mean_train_mse, mean_val_mse)"
   ]
  },
  {
   "cell_type": "markdown",
   "metadata": {},
   "source": [
    "Then do 10-fold cross validation with the functions you just write to find the best parameters for the following models and report the test mse for the best parameters you found for each model.\n",
    "- SGDRegressor with penalty=l1\n",
    "- SGDRegressor with penalty=l2\n",
    "- KNNRegressor  \n",
    "\n",
    "For SGDRegressor you only need to train alpha in ```[0, 0.001, 0.01, 0.1, 1, 5, 10]``` and degree in ```[1, 2]```, and for KNNRegressor you only need to train for k in ```range(10, 200, 10)```. Feel free to try larger search space but you might be careful with the run time."
   ]
  },
  {
   "cell_type": "markdown",
   "metadata": {},
   "source": [
    "## 7.1 SGDRegressor with penalty=l1(Lasso)"
   ]
  },
  {
   "cell_type": "code",
   "execution_count": 15,
   "metadata": {},
   "outputs": [
    {
     "name": "stdout",
     "output_type": "stream",
     "text": [
      "{'pipeline': Pipeline(steps=[('ss', StandardScaler()),\n",
      "                ('poly', PolynomialFeatures(degree=1)),\n",
      "                ('sgd', SGDRegressor(alpha=0.1, penalty='l1', random_state=0))]), 'degree': 1, 'alpha': 0.1}\n",
      "4.36719590246693\n"
     ]
    }
   ],
   "source": [
    "model_list_l1 = []\n",
    "for i in [1,2]:\n",
    "    for j in [0, 0.001, 0.01, 0.1, 1, 5, 10]:\n",
    "        model_list_l1.append({\n",
    "        \"pipeline\": Pipeline([\n",
    "            (\"ss\", StandardScaler()),\n",
    "            (\"poly\", PolynomialFeatures(i)),\n",
    "            (\"sgd\", SGDRegressor(penalty=\"l1\",alpha=j,random_state=0))\n",
    "        ]),\n",
    "        \"degree\": i,\n",
    "        \"alpha\": j\n",
    "    })\n",
    "# model_list_l1 = [\n",
    "#        Pipeline([\n",
    "#             (\"ss\", StandardScaler()),\n",
    "#             (\"poly\", PolynomialFeatures(i)),\n",
    "#             (\"sgd\", SGDRegressor(penalty=\"l1\",alpha=j,random_state=0))\n",
    "#         ])\n",
    "#      for i in range(1, 3), for j in [0, 0.001, 0.01, 0.1, 1, 5, 10]\n",
    "# ]\n",
    "mean_val_mse_list_l1 = []\n",
    "for model_l1 in model_list_l1:\n",
    "    mean_val_mse_list_l1.append(kfold_cross_validation(X_train, y_train, 10, model_l1[\"pipeline\"])[1])\n",
    "min_index_l1 = np.argmin(mean_val_mse_list_l1)\n",
    "best_params_l1 = model_list_l1[min_index_l1]\n",
    "best_score_l1 = mean_val_mse_list_l1[min_index_l1]\n",
    "print(best_params_l1)\n",
    "print(best_score_l1)"
   ]
  },
  {
   "cell_type": "code",
   "execution_count": 16,
   "metadata": {},
   "outputs": [
    {
     "data": {
      "text/plain": [
       "1.8967724901205942"
      ]
     },
     "execution_count": 16,
     "metadata": {},
     "output_type": "execute_result"
    }
   ],
   "source": [
    "best_lasso = pipeline = Pipeline([\n",
    "    ('ss', StandardScaler()),\n",
    "    ('poly', PolynomialFeatures(best_params_l1[\"degree\"])),\n",
    "    ('sgd',  SGDRegressor(penalty=\"l1\",alpha=best_params_l1[\"alpha\"],random_state=0)),\n",
    "])\n",
    "best_lasso.fit(X_train, y_train)\n",
    "mean_squared_error(best_lasso.predict(X_test), y_test)"
   ]
  },
  {
   "cell_type": "markdown",
   "metadata": {},
   "source": [
    "## 7.2 SGDRegressor with penalty=l2(Ridge)"
   ]
  },
  {
   "cell_type": "code",
   "execution_count": 17,
   "metadata": {},
   "outputs": [
    {
     "name": "stdout",
     "output_type": "stream",
     "text": [
      "4\n",
      "{'pipeline': Pipeline(steps=[('ss', StandardScaler()),\n",
      "                ('poly', PolynomialFeatures(degree=1)),\n",
      "                ('sgd', SGDRegressor(alpha=1, random_state=0))]), 'degree': 1, 'alpha': 1}\n",
      "4.166859375091365\n"
     ]
    }
   ],
   "source": [
    "model_list_l2 = []\n",
    "for i in [1,2]:\n",
    "    for j in [0, 0.001, 0.01, 0.1, 1, 5, 10]:\n",
    "        model_list_l2.append({\n",
    "        \"pipeline\": Pipeline([\n",
    "            (\"ss\", StandardScaler()),\n",
    "            (\"poly\", PolynomialFeatures(i)),\n",
    "            (\"sgd\", SGDRegressor(penalty=\"l2\",alpha=j,random_state=0))\n",
    "        ]),\n",
    "        \"degree\": i,\n",
    "        \"alpha\": j\n",
    "    })\n",
    "# model_list_l2 = [\n",
    "#        Pipeline([\n",
    "#             (\"ss\", StandardScaler()),\n",
    "#             (\"poly\", PolynomialFeatures(i)),\n",
    "#             (\"sgd\", SGDRegressor(penalty=\"l2\",alpha=j,random_state=0))\n",
    "#         ])\n",
    "#      for i in range(1, 3) for j in [0, 0.001, 0.01, 0.1, 1, 5, 10]\n",
    "# ]\n",
    "mean_val_mse_list_l2 = []\n",
    "for model_l2 in model_list_l2:\n",
    "    mean_val_mse_list_l2.append(kfold_cross_validation(X_train, y_train, 10, model_l2[\"pipeline\"])[1])\n",
    "min_index_l2 = np.argmin(mean_val_mse_list_l2)\n",
    "best_params_l2 =model_list_l2[min_index_l2]\n",
    "best_score_l2 = mean_val_mse_list_l2[min_index_l2]\n",
    "print(min_index_l2)\n",
    "print(best_params_l2)\n",
    "print(best_score_l2)\n"
   ]
  },
  {
   "cell_type": "code",
   "execution_count": 18,
   "metadata": {},
   "outputs": [
    {
     "data": {
      "text/plain": [
       "1.961139914435924"
      ]
     },
     "execution_count": 18,
     "metadata": {},
     "output_type": "execute_result"
    }
   ],
   "source": [
    "best_ridge = pipeline = Pipeline([\n",
    "    ('ss', StandardScaler()),\n",
    "    ('poly', PolynomialFeatures(best_params_l2[\"degree\"])),\n",
    "    ('sgd',  SGDRegressor(penalty=\"l2\",alpha=best_params_l2[\"alpha\"],random_state=0)),\n",
    "])\n",
    "best_ridge.fit(X_train, y_train)\n",
    "mean_squared_error(best_ridge.predict(X_test), y_test)"
   ]
  },
  {
   "cell_type": "markdown",
   "metadata": {},
   "source": [
    "## 7.3 KNN"
   ]
  },
  {
   "cell_type": "code",
   "execution_count": 19,
   "metadata": {},
   "outputs": [
    {
     "name": "stdout",
     "output_type": "stream",
     "text": [
      "{'model': KNeighborsRegressor(n_neighbors=170), 'k': 170}\n",
      "4.487553829315719\n"
     ]
    }
   ],
   "source": [
    "\n",
    "model_list_knn=[]\n",
    "for i in range(10,200,10):\n",
    "    model_list_knn.append({\"model\":KNeighborsRegressor(i),\"k\": i})\n",
    "mean_val_mse_list_knn = []\n",
    "for model_knn in model_list_knn:\n",
    "    mean_val_mse_list_knn.append(kfold_cross_validation(X_train, y_train, 10, model_knn[\"model\"])[1])\n",
    "min_index_knn = np.argmin(mean_val_mse_list_knn)\n",
    "best_params_knn =model_list_knn[min_index_knn]\n",
    "best_score_knn = mean_val_mse_list_knn[min_index_knn]\n",
    "print(best_params_knn)\n",
    "print(best_score_knn)"
   ]
  },
  {
   "cell_type": "code",
   "execution_count": 20,
   "metadata": {},
   "outputs": [
    {
     "data": {
      "text/plain": [
       "2.2441378035191595"
      ]
     },
     "execution_count": 20,
     "metadata": {},
     "output_type": "execute_result"
    }
   ],
   "source": [
    "best_knn = KNeighborsRegressor(best_params_knn[\"k\"])\n",
    "best_knn.fit(X_train, y_train)\n",
    "mean_squared_error(best_knn.predict(X_test), y_test)"
   ]
  },
  {
   "cell_type": "markdown",
   "metadata": {},
   "source": [
    "# 8. KNN Revisited"
   ]
  },
  {
   "cell_type": "markdown",
   "metadata": {},
   "source": [
    "## 8.1 Feature Selection"
   ]
  },
  {
   "cell_type": "markdown",
   "metadata": {},
   "source": [
    "We should have noticed that the performance for knn models are not that good. We would like to do something to improve its performance. We learned in class that l1 regularized regression can perform feature selection. Let's try it on our dataset.  \n",
    "\n",
    "Complete the following:\n",
    "- Run SGDRegressor again with l1 penalty and the best parameters you select from cv.\n",
    "- Find those features selected by the l1 regularized model and modify the dataset.\n",
    "- Run knn models for k in ```range(50, 2000, 100)```.\n",
    "- Make a plot of 1/k versus test mse.\n",
    "- Plot the test mse of the constant baseline model on the same graph."
   ]
  },
  {
   "cell_type": "code",
   "execution_count": 21,
   "metadata": {},
   "outputs": [],
   "source": [
    "# Since numpy array does not have a count method, we might want to implement a \n",
    "# hepler function to find the index with zero and nonzero numbers.\n",
    "# Your implement does not need to take only one input, or you even don't need to implement \n",
    "# this to finish the hw, this function is only used to make it easier for you to solve the\n",
    "# remaining problems.\n",
    "def find_zero_and_nonezero_index(lst):\n",
    "    zero_index_list = []\n",
    "    nonzero_index_list = []\n",
    "    for index, value in enumerate(lst):\n",
    "        if value == 0:\n",
    "            zero_index_list.append(index)\n",
    "        else:\n",
    "            nonzero_index_list.append(index)\n",
    "#         lambda (index,value): zero_index_list.append(index) if value==0\n",
    "    \n",
    "    return (np.array(nonzero_index_list), np.array(zero_index_list))"
   ]
  },
  {
   "cell_type": "code",
   "execution_count": 22,
   "metadata": {},
   "outputs": [
    {
     "name": "stdout",
     "output_type": "stream",
     "text": [
      "[ 0.          0.          0.14821721  0.49847481  0.          0.\n",
      "  0.          0.          0.          0.          0.          0.\n",
      "  0.          0.          0.          0.          0.          0.\n",
      "  0.          0.          0.          0.          0.          0.\n",
      "  0.          0.          0.          0.          0.          0.\n",
      " -0.06095104  0.          0.          0.          0.          0.\n",
      "  0.          0.14138839  0.          0.         -0.03440476  0.\n",
      "  0.          0.          0.          0.          0.          0.\n",
      "  0.          0.          0.          0.          0.          0.\n",
      "  0.          0.11592697  0.          0.          0.          0.        ]\n"
     ]
    }
   ],
   "source": [
    "# plug in the best params you just find.\n",
    "pipeline = Pipeline([\n",
    "    ('ss', StandardScaler()),\n",
    "    ('poly', PolynomialFeatures(best_params_l1[\"degree\"])),\n",
    "    ('sgd',  SGDRegressor(penalty=\"l1\", alpha=best_params_l1[\"alpha\"],random_state=0)),\n",
    "])\n",
    "\n",
    "# Train using the whole pipeline using just 1 call!\n",
    "pipeline.fit(X_train,y_train)\n",
    "\n",
    "# Find the coeficients for the SGDRegressor\n",
    "# Hint: You can retreive the model for each step in the pipeline use pipeline.steps\n",
    "_,model_coef = pipeline.steps[2]\n",
    "coef = model_coef.coef_\n",
    "print(coef)"
   ]
  },
  {
   "cell_type": "code",
   "execution_count": 23,
   "metadata": {},
   "outputs": [],
   "source": [
    "# Find the zero and nonzero index.\n",
    "# This step is optional, if you think you don't need it, you can skip it.\n",
    "# Hint: Does the number of features you retrieve from the pipeline matches the number of \n",
    "#       features in the original dataframe?\n",
    "nonzero_index, zero_index = find_zero_and_nonezero_index(coef[1:])"
   ]
  },
  {
   "cell_type": "code",
   "execution_count": 24,
   "metadata": {},
   "outputs": [],
   "source": [
    "test_mse_list = []\n",
    "train_mse_list = []\n",
    "X_train_selected = X_train[:, nonzero_index]\n",
    "X_test_selected = X_test[:, nonzero_index]\n",
    "k_range = range(50, 2000, 100)\n",
    "for k in k_range:\n",
    "    knn = KNeighborsRegressor(k)\n",
    "    knn.fit(X_train_selected, y_train)\n",
    "    train_mse_list.append(mean_squared_error(y_train, knn.predict(X_train_selected)))\n",
    "    test_mse_list.append(mean_squared_error(y_test, knn.predict(X_test_selected)))"
   ]
  },
  {
   "cell_type": "code",
   "execution_count": 25,
   "metadata": {},
   "outputs": [
    {
     "data": {
      "image/png": "[encoded data removed]",
      "text/plain": [
       "<Figure size 432x288 with 1 Axes>"
      ]
     },
     "metadata": {
      "needs_background": "light"
     },
     "output_type": "display_data"
    }
   ],
   "source": [
    "k_list = [1/k for k in k_range]\n",
    "plt.plot(k_list, test_mse_list, label=\"test\")\n",
    "plt.plot(k_list, [constant_mse]*len(k_list), label=\"constant\")\n",
    "plt.legend()\n",
    "plt.show()"
   ]
  },
  {
   "cell_type": "markdown",
   "metadata": {},
   "source": [
    "### Question: Compare this plot with what you have in section5, is there any difference between them? If so what caused such differences?\n",
    "Yes, the test mse in section 5 will finally appoarch to constant mse, but test mse in this plot is always smaller than constant mse for all K，and when K become big enough, the mse will increase.\n",
    "\n",
    "Through lasso, some features not related to sales are deleted which will cause noise during train the knn model. After removing those noise, the mse decreased."
   ]
  },
  {
   "cell_type": "markdown",
   "metadata": {},
   "source": [
    "Now we would like to compare how train and test mse changes. Complete the following:\n",
    "- Make two subplots in the same row, the left one should be 1/k versus train mse, and the right one should be 1/k versus test mse."
   ]
  },
  {
   "cell_type": "code",
   "execution_count": 26,
   "metadata": {},
   "outputs": [
    {
     "data": {
      "image/png": "[encoded data removed]",
      "text/plain": [
       "<Figure size 1200x600 with 2 Axes>"
      ]
     },
     "metadata": {
      "needs_background": "light"
     },
     "output_type": "display_data"
    }
   ],
   "source": [
    "fig = plt.figure(1, figsize=[6, 3], dpi=200)\n",
    "k_list = [1/k for k in k_range]\n",
    "subplot = plt.subplot(1, 2, 1)\n",
    "subplot.plot(k_list, train_mse_list, label=\"train_mse\")\n",
    "plt.legend()\n",
    "subplot = plt.subplot(1, 2, 2)\n",
    "subplot.plot(k_list, test_mse_list, label=\"test_mse\")\n",
    "plt.legend()\n",
    "plt.show()"
   ]
  },
  {
   "cell_type": "markdown",
   "metadata": {},
   "source": [
    "### Question: How do the trends differ for train mse from test mse? Explain the reason.\n",
    "As 1/K incease, the model is more flexible and approach to overfitting, so the train mse always decrease, but test mse will decrease and then increase."
   ]
  },
  {
   "cell_type": "markdown",
   "metadata": {},
   "source": [
    "## 8.2 More on features deleted"
   ]
  },
  {
   "cell_type": "markdown",
   "metadata": {},
   "source": [
    "In last section we train knn models on those features selected by Lasso, now we will take a look at what will happen if we train on those features that are deleted. Complete the following:  \n",
    "- Find the features deleted by lasso\n",
    "- Run knn models for k in ```range(50, 2000, 100)```\n",
    "- Make two subplots in the same row, the left one should be 1/k versus train mse, and the right one should be 1/k versus test mse."
   ]
  },
  {
   "cell_type": "code",
   "execution_count": 27,
   "metadata": {},
   "outputs": [],
   "source": [
    "test_mse_list = []\n",
    "train_mse_list = []\n",
    "k_range = range(50, 2000, 100)\n",
    "train_deleted = X_train[:, zero_index]\n",
    "test_deleted = X_test[:, zero_index]\n",
    "for k in k_range:\n",
    "    knn = KNeighborsRegressor(k)\n",
    "    knn.fit(train_deleted, y_train)\n",
    "    train_mse_list.append(mean_squared_error(y_train, knn.predict(train_deleted)))\n",
    "    test_mse_list.append(mean_squared_error(y_test, knn.predict(test_deleted)))"
   ]
  },
  {
   "cell_type": "code",
   "execution_count": 28,
   "metadata": {},
   "outputs": [
    {
     "data": {
      "image/png": "[encoded data removed]",
      "text/plain": [
       "<Figure size 1200x600 with 2 Axes>"
      ]
     },
     "metadata": {
      "needs_background": "light"
     },
     "output_type": "display_data"
    }
   ],
   "source": [
    "fig = plt.figure(1, figsize=[6, 3], dpi=200)\n",
    "k_list = [1/k for k in k_range]\n",
    "subplot = plt.subplot(1, 2, 1)\n",
    "subplot.plot(k_list, train_mse_list, label=\"train\")\n",
    "plt.legend()\n",
    "subplot = plt.subplot(1, 2, 2)\n",
    "subplot.plot(k_list, test_mse_list, label=\"test\")\n",
    "plt.legend()\n",
    "plt.show()"
   ]
  },
  {
   "cell_type": "markdown",
   "metadata": {},
   "source": [
    "### Question: Are the trends for train mse and test mse the same with what you have in section 8.1? If not what are the differences? Explain.\n",
    "\n",
    "The trend for train mse is the same with section 8.1, but the trend for test mse is different and always increase. Because we predict test set based on deleted features which have little contribution for prediction, the trend for mse will always increase, as the model become more flexible.\n"
   ]
  },
  {
   "cell_type": "markdown",
   "metadata": {},
   "source": [
    "# 9. Cross Validation with Modified Dataset"
   ]
  },
  {
   "cell_type": "markdown",
   "metadata": {},
   "source": [
    "Now you have modified the dataset according to lasso. Please retrain the following model on the modified dataset you have and find the best parameters for them.\n",
    "- SGDRegressor with penalty=l1\n",
    "- SGDRegressor with penalty=l2\n",
    "- KNNRegressor  \n",
    "\n",
    "For SGDRegressor you only need to train alpha in ```[0, 0.001, 0.01, 0.1, 1, 5, 10]``` and degree in ```[1, 2]```, and for KNNRegressor you only need to train for k in ```range(10, 200, 10)```. Feel free to try larger search space but you might be careful with the run time."
   ]
  },
  {
   "cell_type": "markdown",
   "metadata": {},
   "source": [
    "## 9.1 SGDRegressor with penalty=l1(Lasso)"
   ]
  },
  {
   "cell_type": "code",
   "execution_count": 29,
   "metadata": {},
   "outputs": [
    {
     "name": "stdout",
     "output_type": "stream",
     "text": [
      "{'pipeline': Pipeline(steps=[('ss', StandardScaler()),\n",
      "                ('poly', PolynomialFeatures(degree=1)),\n",
      "                ('sgd', SGDRegressor(alpha=0.1, penalty='l1', random_state=0))]), 'degree': 1, 'alpha': 0.1}\n",
      "4.395816383611389\n"
     ]
    }
   ],
   "source": [
    "model_list_l1 = []\n",
    "for i in [1,2]:\n",
    "    for j in [0, 0.001, 0.01, 0.1, 1, 5, 10]:\n",
    "        model_list_l1.append({\n",
    "        \"pipeline\": Pipeline([\n",
    "            (\"ss\", StandardScaler()),\n",
    "            (\"poly\", PolynomialFeatures(i)),\n",
    "            (\"sgd\", SGDRegressor(penalty=\"l1\",alpha=j,random_state=0))\n",
    "        ]),\n",
    "        \"degree\": i,\n",
    "        \"alpha\": j\n",
    "    })\n",
    "# model_list_l1 = [\n",
    "#        Pipeline([\n",
    "#             (\"ss\", StandardScaler()),\n",
    "#             (\"poly\", PolynomialFeatures(i)),\n",
    "#             (\"sgd\", SGDRegressor(penalty=\"l1\",alpha=j,random_state=0))\n",
    "#         ])\n",
    "#      for i in range(1, 3), for j in [0, 0.001, 0.01, 0.1, 1, 5, 10]\n",
    "# ]\n",
    "mean_val_mse_list_l1 = []\n",
    "for model_l1 in model_list_l1:\n",
    "    mean_val_mse_list_l1.append(kfold_cross_validation(X_train_selected, y_train, 10, model_l1[\"pipeline\"])[1])\n",
    "min_index_l1 = np.argmin(mean_val_mse_list_l1)\n",
    "best_params_l1 = model_list_l1[min_index_l1]\n",
    "best_score_l1 = mean_val_mse_list_l1[min_index_l1]\n",
    "print(best_params_l1)\n",
    "print(best_score_l1)"
   ]
  },
  {
   "cell_type": "code",
   "execution_count": 30,
   "metadata": {},
   "outputs": [
    {
     "data": {
      "text/plain": [
       "1.8967825937852356"
      ]
     },
     "execution_count": 30,
     "metadata": {},
     "output_type": "execute_result"
    }
   ],
   "source": [
    "best_lasso = pipeline = Pipeline([\n",
    "    ('ss', StandardScaler()),\n",
    "    ('poly', PolynomialFeatures(best_params_l1[\"degree\"])),\n",
    "    ('sgd',  SGDRegressor(penalty=\"l1\",alpha=best_params_l1[\"alpha\"],random_state=0)),\n",
    "])\n",
    "best_lasso.fit(X_train_selected, y_train)\n",
    "mean_squared_error(best_lasso.predict(X_test_selected), y_test)"
   ]
  },
  {
   "cell_type": "markdown",
   "metadata": {},
   "source": [
    "## 9.2 SGDRegressor with penalty=l2(Ridge)"
   ]
  },
  {
   "cell_type": "code",
   "execution_count": 31,
   "metadata": {},
   "outputs": [
    {
     "name": "stdout",
     "output_type": "stream",
     "text": [
      "4\n",
      "{'pipeline': Pipeline(steps=[('ss', StandardScaler()),\n",
      "                ('poly', PolynomialFeatures(degree=1)),\n",
      "                ('sgd', SGDRegressor(alpha=1, random_state=0))]), 'degree': 1, 'alpha': 1}\n",
      "4.160077927481826\n"
     ]
    }
   ],
   "source": [
    "model_list_l2 = []\n",
    "for i in [1,2]:\n",
    "    for j in [0, 0.001, 0.01, 0.1, 1, 5, 10]:\n",
    "        model_list_l2.append({\n",
    "        \"pipeline\": Pipeline([\n",
    "            (\"ss\", StandardScaler()),\n",
    "            (\"poly\", PolynomialFeatures(i)),\n",
    "            (\"sgd\", SGDRegressor(penalty=\"l2\",alpha=j,random_state=0))\n",
    "        ]),\n",
    "        \"degree\": i,\n",
    "        \"alpha\": j\n",
    "    })\n",
    "# model_list_l2 = [\n",
    "#        Pipeline([\n",
    "#             (\"ss\", StandardScaler()),\n",
    "#             (\"poly\", PolynomialFeatures(i)),\n",
    "#             (\"sgd\", SGDRegressor(penalty=\"l2\",alpha=j,random_state=0))\n",
    "#         ])\n",
    "#      for i in range(1, 3) for j in [0, 0.001, 0.01, 0.1, 1, 5, 10]\n",
    "# ]\n",
    "mean_val_mse_list_l2 = []\n",
    "for model_l2 in model_list_l2:\n",
    "    mean_val_mse_list_l2.append(kfold_cross_validation(X_train_selected, y_train, 10, model_l2[\"pipeline\"])[1])\n",
    "min_index_l2 = np.argmin(mean_val_mse_list_l2)\n",
    "best_params_l2 =model_list_l2[min_index_l2]\n",
    "best_score_l2 = mean_val_mse_list_l2[min_index_l2]\n",
    "print(min_index_l2)\n",
    "print(best_params_l2)\n",
    "print(best_score_l2)"
   ]
  },
  {
   "cell_type": "code",
   "execution_count": 32,
   "metadata": {},
   "outputs": [
    {
     "data": {
      "text/plain": [
       "1.8888277404940625"
      ]
     },
     "execution_count": 32,
     "metadata": {},
     "output_type": "execute_result"
    }
   ],
   "source": [
    "best_ridge = pipeline = Pipeline([\n",
    "    ('ss', StandardScaler()),\n",
    "    ('poly', PolynomialFeatures(best_params_l2[\"degree\"])),\n",
    "    ('sgd',  SGDRegressor(penalty=\"l2\",alpha=best_params_l2[\"alpha\"],random_state=0)),\n",
    "])\n",
    "best_ridge.fit(X_train_selected, y_train)\n",
    "mean_squared_error(best_ridge.predict(X_test_selected), y_test)"
   ]
  },
  {
   "cell_type": "markdown",
   "metadata": {},
   "source": [
    "## 9.3 KNN"
   ]
  },
  {
   "cell_type": "code",
   "execution_count": 33,
   "metadata": {},
   "outputs": [
    {
     "name": "stdout",
     "output_type": "stream",
     "text": [
      "{'model': KNeighborsRegressor(n_neighbors=80), 'k': 80}\n",
      "3.9562424863047294\n"
     ]
    }
   ],
   "source": [
    "model_list_knn=[]\n",
    "for i in range(10,200,10):\n",
    "    model_list_knn.append({\"model\":KNeighborsRegressor(i),\"k\": i})\n",
    "mean_val_mse_list_knn = []\n",
    "for model_knn in model_list_knn:\n",
    "    mean_val_mse_list_knn.append(kfold_cross_validation(X_train_selected, y_train, 10, model_knn[\"model\"])[1])\n",
    "min_index_knn = np.argmin(mean_val_mse_list_knn)\n",
    "best_params_knn =model_list_knn[min_index_knn]\n",
    "best_score_knn = mean_val_mse_list_knn[min_index_knn]\n",
    "print(best_params_knn)\n",
    "print(best_score_knn)"
   ]
  },
  {
   "cell_type": "code",
   "execution_count": 34,
   "metadata": {},
   "outputs": [
    {
     "data": {
      "text/plain": [
       "1.9368435805787036"
      ]
     },
     "execution_count": 34,
     "metadata": {},
     "output_type": "execute_result"
    }
   ],
   "source": [
    "best_knn = KNeighborsRegressor(best_params_knn[\"k\"])\n",
    "best_knn.fit(X_train_selected, y_train)\n",
    "mean_squared_error(best_knn.predict(X_test_selected), y_test)"
   ]
  },
  {
   "cell_type": "markdown",
   "metadata": {},
   "source": [
    "### Question: Compare the test mse with what you have in section 7, is there any improvements? How much does each model improve? How would you explain the difference in the improvements?\n",
    "There are imporvements in Ridge regression and KNN, but Lasso remains the same. Ridge improves from 1.961139914435924 to 1.8888277404940625, KNN improves from 2.2441378035191595 to 1.9368435805787036 and Lasso from 1.8967724901205942 to  1.8967825937852356.\n",
    "\n",
    "Feature deletion filters some irrelevant features and improves the performance of Ridge and KNN. However, Lasso can automatically shrink irrelevant features to zero, so Lasso's performance remains the same."
   ]
  },
  {
   "cell_type": "markdown",
   "metadata": {},
   "source": [
    "### Question: What is your final choice for the model type and its parameter(s)? Explain your reason.\n",
    "I will choose Lasso with whole features, since it can achieve a good performance and  automatically remove irrelevant features without external feature deletion."
   ]
  },
  {
   "cell_type": "code",
   "execution_count": null,
   "metadata": {},
   "outputs": [],
   "source": []
  },
  {
   "cell_type": "code",
   "execution_count": null,
   "metadata": {},
   "outputs": [],
   "source": []
  },
  {
   "cell_type": "code",
   "execution_count": null,
   "metadata": {},
   "outputs": [],
   "source": []
  }
 ],
 "metadata": {
  "kernelspec": {
   "display_name": "Python [conda env:root] *",
   "language": "python",
   "name": "conda-root-py"
  },
  "language_info": {
   "codemirror_mode": {
    "name": "ipython",
    "version": 3
   },
   "file_extension": ".py",
   "mimetype": "text/x-python",
   "name": "python",
   "nbconvert_exporter": "python",
   "pygments_lexer": "ipython3",
   "version": "3.7.3"
  },
  "pycharm": {
   "stem_cell": {
    "cell_type": "raw",
    "metadata": {
     "collapsed": false
    },
    "source": []
   }
  }
 },
 "nbformat": 4,
 "nbformat_minor": 4
}
