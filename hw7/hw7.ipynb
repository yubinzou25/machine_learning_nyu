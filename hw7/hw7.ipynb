{
 "cells": [
  {
   "cell_type": "markdown",
   "metadata": {},
   "source": [
    "# Classification"
   ]
  },
  {
   "cell_type": "markdown",
   "metadata": {},
   "source": [
    "In this exercise we are going through the application of different classification methods and related concepts."
   ]
  },
  {
   "cell_type": "markdown",
   "metadata": {},
   "source": [
    "# Submission"
   ]
  },
  {
   "cell_type": "markdown",
   "metadata": {},
   "source": [
    "In order to submit on gradescope, you need to submit the following:\n",
    "- the homework jupyter notebook it self ```hw7.ipynb```\n",
    "- the pdf generated from the notebook, you can get the pdf from ```File->Print Preview```\n",
    "- the .py file generated from the notebook, you can get the .py file from ```File->Download as->Python(.py)```"
   ]
  },
  {
   "cell_type": "markdown",
   "metadata": {},
   "source": [
    "# 1. QMNIST Classification "
   ]
  },
  {
   "cell_type": "code",
   "execution_count": 28,
   "metadata": {},
   "outputs": [],
   "source": [
    "# import some libraries\n",
    "import numpy as np\n",
    "import matplotlib.pyplot as plt\n",
    "import pandas as pd\n",
    "import seaborn as sn\n",
    "import pickle\n",
    "np.set_printoptions(suppress=True)"
   ]
  },
  {
   "cell_type": "markdown",
   "metadata": {},
   "source": [
    "## 1.1 Load your data"
   ]
  },
  {
   "cell_type": "code",
   "execution_count": 15,
   "metadata": {},
   "outputs": [],
   "source": [
    "pkl_file = open('./datasets/qmnist.pkl','rb')\n",
    "data = pickle.load(pkl_file)\n",
    "\n",
    "train_data =data['train_data']\n",
    "train_labels = data['train_labels']\n",
    "\n",
    "test_data = data['test_data']\n",
    "test_labels = data['test_labels']"
   ]
  },
  {
   "cell_type": "code",
   "execution_count": 16,
   "metadata": {},
   "outputs": [
    {
     "data": {
      "text/plain": [
       "((60000, 784), (50000, 784))"
      ]
     },
     "execution_count": 16,
     "metadata": {},
     "output_type": "execute_result"
    }
   ],
   "source": [
    "train_data.shape, test_data.shape"
   ]
  },
  {
   "cell_type": "markdown",
   "metadata": {},
   "source": [
    "## 1.2 Plot your data"
   ]
  },
  {
   "cell_type": "markdown",
   "metadata": {},
   "source": [
    "Each QMNIST data point represents a 28 * 28 pixel hand written digit. Complete the following code to plot the first five data point from the train dataset."
   ]
  },
  {
   "cell_type": "code",
   "execution_count": 4,
   "metadata": {},
   "outputs": [
    {
     "data": {
      "image/png": "[encoded data removed]",
      "text/plain": [
       "<Figure size 432x432 with 5 Axes>"
      ]
     },
     "metadata": {
      "needs_background": "light"
     },
     "output_type": "display_data"
    }
   ],
   "source": [
    "# np.array.reshape might be useful.\n",
    "fig, axes = plt.subplots(1, 5, figsize=(6, 6))\n",
    "fig.tight_layout()\n",
    "\n",
    "for i in range(5):\n",
    "    img = np.resize(train_data[i],(28,28))\n",
    "    axes[i].imshow(img,'gray')\n",
    "    axes[i].axis('off')\n",
    "plt.show()"
   ]
  },
  {
   "cell_type": "markdown",
   "metadata": {},
   "source": [
    "## 1.3 Naive Bayes"
   ]
  },
  {
   "cell_type": "markdown",
   "metadata": {},
   "source": [
    "sklearn has two different implementions of naive bayes that we can use for this problem: \n",
    "- ```CategoricalNB()```\n",
    "- ```GaussianNB()```  \n",
    "\n",
    "Let's take a loot at both of them."
   ]
  },
  {
   "cell_type": "code",
   "execution_count": 29,
   "metadata": {},
   "outputs": [],
   "source": [
    "from sklearn.naive_bayes import CategoricalNB, GaussianNB"
   ]
  },
  {
   "cell_type": "markdown",
   "metadata": {},
   "source": [
    "### 1.3.1 CategoricalNB"
   ]
  },
  {
   "cell_type": "markdown",
   "metadata": {},
   "source": [
    "In CategoricalNB, we assume that each feature in the dataset is categorical. Therefore, the The probability of category $t$ in feature $i$ given class $c$ is estimated as:  \n",
    "<div align='center'>\n",
    "    <span style=\"font-size:1.5em;\">$P(x_i=t|y=c; \\alpha)=\\frac{N_tic+\\alpha}{N_c+\\alpha n_i}$</span>\n",
    "</div>\n",
    "This is just what we see in class, with $\\alpha$ being the smoothing variable."
   ]
  },
  {
   "cell_type": "markdown",
   "metadata": {},
   "source": [
    "Your task here is to draw out the test accuracy score for $\\alpha$ between 0 and 2 with step to be 0.1."
   ]
  },
  {
   "cell_type": "code",
   "execution_count": 6,
   "metadata": {},
   "outputs": [
    {
     "name": "stderr",
     "output_type": "stream",
     "text": [
      "/anaconda3/lib/python3.7/site-packages/sklearn/naive_bayes.py:509: UserWarning: alpha too small will result in numeric errors, setting alpha = 1.0e-10\n",
      "  'setting alpha = %.1e' % _ALPHA_MIN)\n"
     ]
    }
   ],
   "source": [
    "# train models\n",
    "accuracy=[]\n",
    "alpha_range = np.arange(0,2.0,0.1)\n",
    "for a in alpha_range:\n",
    "    classify = CategoricalNB(alpha = a,min_categories = 256)\n",
    "    classify.fit(train_data,train_labels)\n",
    "    accuracy.append(classify.score(test_data,test_labels))\n",
    "    "
   ]
  },
  {
   "cell_type": "code",
   "execution_count": 7,
   "metadata": {},
   "outputs": [
    {
     "data": {
      "text/plain": [
       "[<matplotlib.lines.Line2D at 0x13b4300f0>]"
      ]
     },
     "execution_count": 7,
     "metadata": {},
     "output_type": "execute_result"
    },
    {
     "data": {
      "image/png": "[encoded data removed]",
      "text/plain": [
       "<Figure size 432x288 with 1 Axes>"
      ]
     },
     "metadata": {
      "needs_background": "light"
     },
     "output_type": "display_data"
    }
   ],
   "source": [
    "# make the plot\n",
    "plt.plot(alpha_range,accuracy)"
   ]
  },
  {
   "cell_type": "markdown",
   "metadata": {},
   "source": [
    "### Question: Describe how test accuracy changes and explain.\n",
    "As the alpha increases, the test accuracy increases at the first time, and then decrease.\n",
    "When alpha increases fron zero to a small number, the smoothing method helps avoiding zero probability when not seeing it in training set. However, as alpha continues increaseing, the laplace smoothing method will have an effect on the data distribution of real training set."
   ]
  },
  {
   "cell_type": "markdown",
   "metadata": {},
   "source": [
    "### 1.3.2 GaussianNB"
   ]
  },
  {
   "cell_type": "markdown",
   "metadata": {},
   "source": [
    "In GaussainNB, we no longer assume each feature is categorical. Instead, we assume the likelyhood of each feature follows a Gaussain Distribution:\n",
    "\n",
    "<div align='center'>\n",
    "    <span style=\"font-size:1.5em;\">$P(x_i|y)=\\frac{1}{\\sqrt{2\\pi\\sigma^{2}_{y}}}\\exp{(-\\frac{(x_i-\\mu_y)^2}{2\\sigma_y^2})}$</span>\n",
    "</div>"
   ]
  },
  {
   "cell_type": "markdown",
   "metadata": {},
   "source": [
    "Again draw out the test accuracy score for $var\\_smoothing$ between 0 and 2 with step to be 0.1."
   ]
  },
  {
   "cell_type": "code",
   "execution_count": 8,
   "metadata": {},
   "outputs": [
    {
     "name": "stderr",
     "output_type": "stream",
     "text": [
      "/anaconda3/lib/python3.7/site-packages/sklearn/naive_bayes.py:452: RuntimeWarning: divide by zero encountered in log\n",
      "  n_ij = - 0.5 * np.sum(np.log(2. * np.pi * self.sigma_[i, :]))\n",
      "/anaconda3/lib/python3.7/site-packages/sklearn/naive_bayes.py:454: RuntimeWarning: divide by zero encountered in true_divide\n",
      "  (self.sigma_[i, :]), 1)\n",
      "/anaconda3/lib/python3.7/site-packages/sklearn/naive_bayes.py:454: RuntimeWarning: invalid value encountered in true_divide\n",
      "  (self.sigma_[i, :]), 1)\n"
     ]
    }
   ],
   "source": [
    "# train models\n",
    "var_range = np.arange(0,2.0,0.1)\n",
    "accuracy=[]\n",
    "for v in var_range:\n",
    "    classify = GaussianNB(var_smoothing = v)\n",
    "    classify.fit(train_data,train_labels)\n",
    "    accuracy.append(classify.score(test_data,test_labels))"
   ]
  },
  {
   "cell_type": "code",
   "execution_count": 9,
   "metadata": {},
   "outputs": [
    {
     "data": {
      "text/plain": [
       "[<matplotlib.lines.Line2D at 0x1284ba5f8>]"
      ]
     },
     "execution_count": 9,
     "metadata": {},
     "output_type": "execute_result"
    },
    {
     "data": {
      "image/png": "[encoded data removed]",
      "text/plain": [
       "<Figure size 432x288 with 1 Axes>"
      ]
     },
     "metadata": {
      "needs_background": "light"
     },
     "output_type": "display_data"
    }
   ],
   "source": [
    "# make the plot\n",
    "plt.plot(alpha_range,accuracy)"
   ]
  },
  {
   "cell_type": "markdown",
   "metadata": {},
   "source": [
    "### Question: Compare the performance of the model with $var\\_smoothing=0$ and the model with $var\\_smoothing$ being other values. What do you find? How would you explain this senario? \n",
    "\n",
    "When the var_smoothing =0, both of the model have a bad performance. The reason is that, a bayes model without smoothing parameter will cause zero probability when not seeing a specific feature in training set."
   ]
  },
  {
   "cell_type": "markdown",
   "metadata": {},
   "source": [
    "### Question: Comparing the test accuracy between the above two different Naive Bayes models. Which one has a relatively low score? What might be the cause?\n",
    "The GsussianNB has a relativelo low score compared with CategoryNB.\n",
    "The feature distribution of this problem doesn't match well as a Gaussian distribution."
   ]
  },
  {
   "cell_type": "markdown",
   "metadata": {},
   "source": [
    "## 1.4 Confusion Matrix"
   ]
  },
  {
   "cell_type": "markdown",
   "metadata": {},
   "source": [
    "In this section, we would like to analyze the confusion matrix of a given model.\n",
    "\n",
    "The following is the definition of a confusion matrix:  \n",
    "\n",
    "By definition a confusion matrix $C$ is such that $C_{i, j}$\n",
    "is equal to the number of observations known to be in group $i$ and\n",
    "predicted to be in group $j$.\n",
    "\n",
    "For confusion matrix, use `sklearn.metrics.confusion_matrix`\n",
    "\n",
    "Firstly, compute confusion matrix using ```CategoricalNB``` with $\\alpha=0.5$ and test data."
   ]
  },
  {
   "cell_type": "code",
   "execution_count": 12,
   "metadata": {},
   "outputs": [],
   "source": [
    "classify = CategoricalNB(alpha = 0.5,min_categories = 256)\n",
    "classify.fit(train_data,train_labels)\n",
    "test_predict = classify.predict(test_data)"
   ]
  },
  {
   "cell_type": "code",
   "execution_count": 13,
   "metadata": {},
   "outputs": [
    {
     "data": {
      "text/plain": [
       "<AxesSubplot:>"
      ]
     },
     "execution_count": 13,
     "metadata": {},
     "output_type": "execute_result"
    },
    {
     "data": {
      "image/png": "[encoded data removed]",
      "text/plain": [
       "<Figure size 720x504 with 2 Axes>"
      ]
     },
     "metadata": {
      "needs_background": "light"
     },
     "output_type": "display_data"
    }
   ],
   "source": [
    "from sklearn.metrics import confusion_matrix\n",
    "\n",
    "labels = [0, 1, 2, 3, 4, 5, 6, 7, 8, 9]\n",
    "cm = confusion_matrix(test_labels, test_predict)\n",
    "df_cm = pd.DataFrame(cm, index = [i for i in labels],\n",
    "                  columns = [i for i in labels])\n",
    "# print(df_cm)\n",
    "plt.figure(figsize = (10,7))\n",
    "sn.heatmap(df_cm, annot=True)\n"
   ]
  },
  {
   "cell_type": "markdown",
   "metadata": {},
   "source": [
    "### Question: What are the top five confusing pairs (i -> j) of classes for you model? What might be the cause?\n",
    "The top five confusing pairs are (4->9),(5->3),(9->4),(7->9),(8->3). The features of i and j in top five confusing pairs have more commons comparing with other confusing pairs which can lead to more wrong prediction.\n",
    "\n"
   ]
  },
  {
   "cell_type": "markdown",
   "metadata": {},
   "source": [
    "# 2. Binary Classification"
   ]
  },
  {
   "cell_type": "markdown",
   "metadata": {},
   "source": [
    "Now we have gone over a problem with 10 classes. Let's take a deeper look at the classification on a relatively simple dataset. "
   ]
  },
  {
   "cell_type": "markdown",
   "metadata": {},
   "source": [
    "## 2.1 Binary Dateset 1"
   ]
  },
  {
   "cell_type": "markdown",
   "metadata": {},
   "source": [
    "Note that we have two binary datasets in the fold you downloaded. Let's first take a look at the first one."
   ]
  },
  {
   "cell_type": "code",
   "execution_count": 30,
   "metadata": {},
   "outputs": [
    {
     "data": {
      "text/html": [
       "<div>\n",
       "<style scoped>\n",
       "    .dataframe tbody tr th:only-of-type {\n",
       "        vertical-align: middle;\n",
       "    }\n",
       "\n",
       "    .dataframe tbody tr th {\n",
       "        vertical-align: top;\n",
       "    }\n",
       "\n",
       "    .dataframe thead th {\n",
       "        text-align: right;\n",
       "    }\n",
       "</style>\n",
       "<table border=\"1\" class=\"dataframe\">\n",
       "  <thead>\n",
       "    <tr style=\"text-align: right;\">\n",
       "      <th></th>\n",
       "      <th>Time</th>\n",
       "      <th>V1</th>\n",
       "      <th>V2</th>\n",
       "      <th>V3</th>\n",
       "      <th>V4</th>\n",
       "      <th>V5</th>\n",
       "      <th>V26</th>\n",
       "      <th>V27</th>\n",
       "      <th>V28</th>\n",
       "      <th>Amount</th>\n",
       "      <th>Class</th>\n",
       "    </tr>\n",
       "  </thead>\n",
       "  <tbody>\n",
       "    <tr>\n",
       "      <th>0</th>\n",
       "      <td>406.0</td>\n",
       "      <td>-2.312227</td>\n",
       "      <td>1.951992</td>\n",
       "      <td>-1.609851</td>\n",
       "      <td>3.997906</td>\n",
       "      <td>-0.522188</td>\n",
       "      <td>0.177840</td>\n",
       "      <td>0.261145</td>\n",
       "      <td>-0.143276</td>\n",
       "      <td>0.00</td>\n",
       "      <td>1</td>\n",
       "    </tr>\n",
       "    <tr>\n",
       "      <th>1</th>\n",
       "      <td>472.0</td>\n",
       "      <td>-3.043541</td>\n",
       "      <td>-3.157307</td>\n",
       "      <td>1.088463</td>\n",
       "      <td>2.288644</td>\n",
       "      <td>1.359805</td>\n",
       "      <td>-0.145362</td>\n",
       "      <td>-0.252773</td>\n",
       "      <td>0.035764</td>\n",
       "      <td>529.00</td>\n",
       "      <td>1</td>\n",
       "    </tr>\n",
       "    <tr>\n",
       "      <th>2</th>\n",
       "      <td>4462.0</td>\n",
       "      <td>-2.303350</td>\n",
       "      <td>1.759247</td>\n",
       "      <td>-0.359745</td>\n",
       "      <td>2.330243</td>\n",
       "      <td>-0.821628</td>\n",
       "      <td>-0.542628</td>\n",
       "      <td>0.039566</td>\n",
       "      <td>-0.153029</td>\n",
       "      <td>239.93</td>\n",
       "      <td>1</td>\n",
       "    </tr>\n",
       "    <tr>\n",
       "      <th>3</th>\n",
       "      <td>6986.0</td>\n",
       "      <td>-4.397974</td>\n",
       "      <td>1.358367</td>\n",
       "      <td>-2.592844</td>\n",
       "      <td>2.679787</td>\n",
       "      <td>-1.128131</td>\n",
       "      <td>-0.657488</td>\n",
       "      <td>-0.827136</td>\n",
       "      <td>0.849573</td>\n",
       "      <td>59.00</td>\n",
       "      <td>1</td>\n",
       "    </tr>\n",
       "    <tr>\n",
       "      <th>4</th>\n",
       "      <td>7519.0</td>\n",
       "      <td>1.234235</td>\n",
       "      <td>3.019740</td>\n",
       "      <td>-4.304597</td>\n",
       "      <td>4.732795</td>\n",
       "      <td>3.624201</td>\n",
       "      <td>0.566797</td>\n",
       "      <td>-0.010016</td>\n",
       "      <td>0.146793</td>\n",
       "      <td>1.00</td>\n",
       "      <td>1</td>\n",
       "    </tr>\n",
       "  </tbody>\n",
       "</table>\n",
       "</div>"
      ],
      "text/plain": [
       "     Time        V1        V2        V3        V4        V5       V26  \\\n",
       "0   406.0 -2.312227  1.951992 -1.609851  3.997906 -0.522188  0.177840   \n",
       "1   472.0 -3.043541 -3.157307  1.088463  2.288644  1.359805 -0.145362   \n",
       "2  4462.0 -2.303350  1.759247 -0.359745  2.330243 -0.821628 -0.542628   \n",
       "3  6986.0 -4.397974  1.358367 -2.592844  2.679787 -1.128131 -0.657488   \n",
       "4  7519.0  1.234235  3.019740 -4.304597  4.732795  3.624201  0.566797   \n",
       "\n",
       "        V27       V28  Amount  Class  \n",
       "0  0.261145 -0.143276    0.00      1  \n",
       "1 -0.252773  0.035764  529.00      1  \n",
       "2  0.039566 -0.153029  239.93      1  \n",
       "3 -0.827136  0.849573   59.00      1  \n",
       "4 -0.010016  0.146793    1.00      1  "
      ]
     },
     "execution_count": 30,
     "metadata": {},
     "output_type": "execute_result"
    }
   ],
   "source": [
    "df = pd.read_csv('./datasets/binary_dataset1.csv')\n",
    "df.head()"
   ]
  },
  {
   "cell_type": "markdown",
   "metadata": {},
   "source": [
    "Let's take a look at the class distribution. Your task here is to draw a bar chart with each bar representing a simple class."
   ]
  },
  {
   "cell_type": "code",
   "execution_count": 31,
   "metadata": {},
   "outputs": [
    {
     "data": {
      "text/plain": [
       "<AxesSubplot:xlabel='count', ylabel='Class'>"
      ]
     },
     "execution_count": 31,
     "metadata": {},
     "output_type": "execute_result"
    },
    {
     "data": {
      "image/png": "[encoded data removed]",
      "text/plain": [
       "<Figure size 432x288 with 1 Axes>"
      ]
     },
     "metadata": {
      "needs_background": "light"
     },
     "output_type": "display_data"
    }
   ],
   "source": [
    "# Make the bar chart\n",
    "sn.countplot(y=\"Class\",data = df)"
   ]
  },
  {
   "cell_type": "markdown",
   "metadata": {},
   "source": [
    "Before training any model, you need to get the X and y out of the dataframe and do train test split"
   ]
  },
  {
   "cell_type": "code",
   "execution_count": 32,
   "metadata": {},
   "outputs": [],
   "source": [
    "# Get X and y from the dataset\n",
    "y = df[[\"Class\"]].values.ravel()\n",
    "X = pd.get_dummies(df.drop([\"Class\"], axis=1)).values"
   ]
  },
  {
   "cell_type": "code",
   "execution_count": 38,
   "metadata": {},
   "outputs": [],
   "source": [
    "# Do train test split with random_state=0 and test_size=0.5\n",
    "from sklearn.model_selection import train_test_split\n",
    "X_train, X_test, y_train, y_test = train_test_split(X, y, test_size=0.50,random_state=0)"
   ]
  },
  {
   "cell_type": "markdown",
   "metadata": {},
   "source": [
    "### 2.1.1 Naive Bayes in Binary Classification"
   ]
  },
  {
   "cell_type": "markdown",
   "metadata": {},
   "source": [
    "First we want to solve this problem using Naive Bayes model with proper parameter. Choose a proper Naive Bayes class to solve this priblem. Report your test accuracy."
   ]
  },
  {
   "cell_type": "code",
   "execution_count": 39,
   "metadata": {},
   "outputs": [
    {
     "name": "stdout",
     "output_type": "stream",
     "text": [
      "(0.9737903225806451, 0.0)\n",
      "0.9737903225806451\n"
     ]
    }
   ],
   "source": [
    "accuracy_list=[]\n",
    "for a in np.arange(0,2.0,0.1):\n",
    "    classify = GaussianNB(var_smoothing= a)\n",
    "    classify.fit(X_train,y_train)\n",
    "    accuracy_list.append((classify.score(X_test,y_test),a))\n",
    "    best_a = max(accuracy_list,key = lambda x:x[0])\n",
    "classify = GaussianNB(var_smoothing=best_a[1])\n",
    "classify.fit(X_train,y_train)\n",
    "print(best_a)\n",
    "print(classify.score(X_test,y_test))"
   ]
  },
  {
   "cell_type": "markdown",
   "metadata": {},
   "source": [
    "### 2.1.2 Using Regression for Classification"
   ]
  },
  {
   "cell_type": "markdown",
   "metadata": {},
   "source": [
    "Since this is a binary classification problem, we can solve it in the following steps:\n",
    "1. Fit a linear regression model\n",
    "2. Get your raw predicted values $x_r$ from the model\n",
    "3. Find a threshold $\\epsilon$ in a way such that \n",
    "4. Get your final predicted class $x_c$ in a way that $x_c=0$ if $x_r<\\epsilon$, otherwsie $x_c=1$  \n",
    "\n",
    "One way to choose the $\\epsilon$ here is to find the one that maximize the train accuracy, and then apply to test data.  \n",
    "\n",
    "So your task here is to create such a model, find $\\epsilon$, and report test accuracy."
   ]
  },
  {
   "cell_type": "code",
   "execution_count": 20,
   "metadata": {},
   "outputs": [],
   "source": [
    "from sklearn.linear_model import LinearRegression\n",
    "from sklearn.metrics import accuracy_score"
   ]
  },
  {
   "cell_type": "code",
   "execution_count": 21,
   "metadata": {},
   "outputs": [
    {
     "name": "stdout",
     "output_type": "stream",
     "text": [
      "(0.9899193548387096, 0.23)\n",
      "0.9737903225806451\n"
     ]
    }
   ],
   "source": [
    "regressor = LinearRegression()\n",
    "regressor.fit(X_train,y_train)\n",
    "X_predict = regressor.predict(X_train)\n",
    "accuracy_list = []\n",
    "\n",
    "for epsilon in np.arange(0,1,0.01):\n",
    "    X_predict_thres = np.where(X_predict<epsilon,0,1)\n",
    "    accuracy_list.append((accuracy_score(y_train,X_predict_thres),epsilon))\n",
    "best_epsilon = max(accuracy_list,key = lambda x : x[0])\n",
    "\n",
    "X_predict = regressor.predict(X_test)\n",
    "X_predict_thres = np.where(X_predict<best_epsilon[1],0,1)\n",
    "print(best_epsilon)\n",
    "print(accuracy_score(y_test,X_predict_thres))"
   ]
  },
  {
   "cell_type": "markdown",
   "metadata": {},
   "source": [
    "Write down what you find here:\n",
    "- $\\epsilon$ = 0.23\n",
    "- train_accuracy = 0.9899193548387096\n",
    "- test_accuracy = 0.9737903225806451"
   ]
  },
  {
   "cell_type": "markdown",
   "metadata": {},
   "source": [
    "### Question: Can you think of any model you learnt from class that is similar to this way of doing classification?\n",
    "Perceptron method."
   ]
  },
  {
   "cell_type": "markdown",
   "metadata": {},
   "source": [
    "## 2.2 Binary dataset 2"
   ]
  },
  {
   "cell_type": "markdown",
   "metadata": {},
   "source": [
    "Then let's take a look at the second binary dataset.  \n",
    "\n",
    "As usual, we take a look at the class distribution."
   ]
  },
  {
   "cell_type": "code",
   "execution_count": 40,
   "metadata": {},
   "outputs": [
    {
     "data": {
      "text/html": [
       "<div>\n",
       "<style scoped>\n",
       "    .dataframe tbody tr th:only-of-type {\n",
       "        vertical-align: middle;\n",
       "    }\n",
       "\n",
       "    .dataframe tbody tr th {\n",
       "        vertical-align: top;\n",
       "    }\n",
       "\n",
       "    .dataframe thead th {\n",
       "        text-align: right;\n",
       "    }\n",
       "</style>\n",
       "<table border=\"1\" class=\"dataframe\">\n",
       "  <thead>\n",
       "    <tr style=\"text-align: right;\">\n",
       "      <th></th>\n",
       "      <th>Time</th>\n",
       "      <th>V1</th>\n",
       "      <th>V2</th>\n",
       "      <th>V3</th>\n",
       "      <th>V4</th>\n",
       "      <th>V5</th>\n",
       "      <th>V26</th>\n",
       "      <th>V27</th>\n",
       "      <th>V28</th>\n",
       "      <th>Amount</th>\n",
       "      <th>Class</th>\n",
       "    </tr>\n",
       "  </thead>\n",
       "  <tbody>\n",
       "    <tr>\n",
       "      <th>0</th>\n",
       "      <td>406.0</td>\n",
       "      <td>-2.312227</td>\n",
       "      <td>1.951992</td>\n",
       "      <td>-1.609851</td>\n",
       "      <td>3.997906</td>\n",
       "      <td>-0.522188</td>\n",
       "      <td>0.177840</td>\n",
       "      <td>0.261145</td>\n",
       "      <td>-0.143276</td>\n",
       "      <td>0.00</td>\n",
       "      <td>1</td>\n",
       "    </tr>\n",
       "    <tr>\n",
       "      <th>1</th>\n",
       "      <td>472.0</td>\n",
       "      <td>-3.043541</td>\n",
       "      <td>-3.157307</td>\n",
       "      <td>1.088463</td>\n",
       "      <td>2.288644</td>\n",
       "      <td>1.359805</td>\n",
       "      <td>-0.145362</td>\n",
       "      <td>-0.252773</td>\n",
       "      <td>0.035764</td>\n",
       "      <td>529.00</td>\n",
       "      <td>1</td>\n",
       "    </tr>\n",
       "    <tr>\n",
       "      <th>2</th>\n",
       "      <td>4462.0</td>\n",
       "      <td>-2.303350</td>\n",
       "      <td>1.759247</td>\n",
       "      <td>-0.359745</td>\n",
       "      <td>2.330243</td>\n",
       "      <td>-0.821628</td>\n",
       "      <td>-0.542628</td>\n",
       "      <td>0.039566</td>\n",
       "      <td>-0.153029</td>\n",
       "      <td>239.93</td>\n",
       "      <td>1</td>\n",
       "    </tr>\n",
       "    <tr>\n",
       "      <th>3</th>\n",
       "      <td>6986.0</td>\n",
       "      <td>-4.397974</td>\n",
       "      <td>1.358367</td>\n",
       "      <td>-2.592844</td>\n",
       "      <td>2.679787</td>\n",
       "      <td>-1.128131</td>\n",
       "      <td>-0.657488</td>\n",
       "      <td>-0.827136</td>\n",
       "      <td>0.849573</td>\n",
       "      <td>59.00</td>\n",
       "      <td>1</td>\n",
       "    </tr>\n",
       "    <tr>\n",
       "      <th>4</th>\n",
       "      <td>7519.0</td>\n",
       "      <td>1.234235</td>\n",
       "      <td>3.019740</td>\n",
       "      <td>-4.304597</td>\n",
       "      <td>4.732795</td>\n",
       "      <td>3.624201</td>\n",
       "      <td>0.566797</td>\n",
       "      <td>-0.010016</td>\n",
       "      <td>0.146793</td>\n",
       "      <td>1.00</td>\n",
       "      <td>1</td>\n",
       "    </tr>\n",
       "  </tbody>\n",
       "</table>\n",
       "</div>"
      ],
      "text/plain": [
       "     Time        V1        V2        V3        V4        V5       V26  \\\n",
       "0   406.0 -2.312227  1.951992 -1.609851  3.997906 -0.522188  0.177840   \n",
       "1   472.0 -3.043541 -3.157307  1.088463  2.288644  1.359805 -0.145362   \n",
       "2  4462.0 -2.303350  1.759247 -0.359745  2.330243 -0.821628 -0.542628   \n",
       "3  6986.0 -4.397974  1.358367 -2.592844  2.679787 -1.128131 -0.657488   \n",
       "4  7519.0  1.234235  3.019740 -4.304597  4.732795  3.624201  0.566797   \n",
       "\n",
       "        V27       V28  Amount  Class  \n",
       "0  0.261145 -0.143276    0.00      1  \n",
       "1 -0.252773  0.035764  529.00      1  \n",
       "2  0.039566 -0.153029  239.93      1  \n",
       "3 -0.827136  0.849573   59.00      1  \n",
       "4 -0.010016  0.146793    1.00      1  "
      ]
     },
     "execution_count": 40,
     "metadata": {},
     "output_type": "execute_result"
    }
   ],
   "source": [
    "df = pd.read_csv('./datasets/binary_dataset2.csv')\n",
    "df.head()"
   ]
  },
  {
   "cell_type": "code",
   "execution_count": 41,
   "metadata": {},
   "outputs": [
    {
     "data": {
      "text/plain": [
       "<AxesSubplot:xlabel='count', ylabel='Class'>"
      ]
     },
     "execution_count": 41,
     "metadata": {},
     "output_type": "execute_result"
    },
    {
     "data": {
      "image/png": "[encoded data removed]",
      "text/plain": [
       "<Figure size 432x288 with 1 Axes>"
      ]
     },
     "metadata": {
      "needs_background": "light"
     },
     "output_type": "display_data"
    }
   ],
   "source": [
    "sn.countplot(y=\"Class\",data = df)"
   ]
  },
  {
   "cell_type": "markdown",
   "metadata": {},
   "source": [
    "### Question: Compare the distribution with the first dataset. What do you find?\n",
    "This dataset is extremely imblanced."
   ]
  },
  {
   "cell_type": "markdown",
   "metadata": {},
   "source": [
    "Again you need to get the X and y out the dataframe and do train test split."
   ]
  },
  {
   "cell_type": "code",
   "execution_count": 42,
   "metadata": {},
   "outputs": [],
   "source": [
    "# Get X and y from dataset\n",
    "y = df[[\"Class\"]].values.ravel()\n",
    "X = pd.get_dummies(df.drop([\"Class\"], axis=1)).values"
   ]
  },
  {
   "cell_type": "code",
   "execution_count": 43,
   "metadata": {},
   "outputs": [],
   "source": [
    "# Do train test split with random_state=0 and test_size=0.5\n",
    "from sklearn.model_selection import train_test_split\n",
    "X_train, X_test, y_train, y_test = train_test_split(X, y, test_size=0.50,random_state=0)"
   ]
  },
  {
   "cell_type": "markdown",
   "metadata": {},
   "source": [
    "### 2.2.1 Accuracy for Naive Bayes"
   ]
  },
  {
   "cell_type": "markdown",
   "metadata": {},
   "source": [
    "Let's train a Naive Bayes model again. Similar with 2.1.1, choose a proper Naive Bayes class with a proper smoothing variable to solve this priblem. Report your test accuracy."
   ]
  },
  {
   "cell_type": "code",
   "execution_count": 46,
   "metadata": {},
   "outputs": [
    {
     "name": "stdout",
     "output_type": "stream",
     "text": [
      "(0.9952863820011091, 0.1)\n",
      "0.9952863820011091\n"
     ]
    }
   ],
   "source": [
    "accuracy_list=[]\n",
    "for a in np.arange(0,2.0,0.1):\n",
    "    classify = GaussianNB(var_smoothing= a)\n",
    "    classify.fit(X_train,y_train)\n",
    "    accuracy_list.append((classify.score(X_test,y_test),a))\n",
    "    best_a = max(accuracy_list,key = lambda x:x[0])\n",
    "classify = GaussianNB(var_smoothing=best_a[1])\n",
    "classify.fit(X_train,y_train)\n",
    "print(best_a)\n",
    "print(classify.score(X_test,y_test))"
   ]
  },
  {
   "cell_type": "markdown",
   "metadata": {},
   "source": [
    "### Question: According to your accuracy score, how would you evaluate your model?\n",
    "This dataset is extremely imblanced, the model can even achieve high accuracy score by blindly labeling all data as 0.\n",
    "Therefore, we'd better to choose other metrics like recall and fall-out to evaluate our model."
   ]
  },
  {
   "cell_type": "markdown",
   "metadata": {},
   "source": [
    "### 2.2.2 Confusion Matrix and Different Metrics"
   ]
  },
  {
   "cell_type": "markdown",
   "metadata": {},
   "source": [
    "![avatar](./pictures/confusionmatrix.svg)"
   ]
  },
  {
   "cell_type": "markdown",
   "metadata": {},
   "source": [
    "A very important tool to debug classifiers is the confusion matrix. For binary classification, it contains four different cells:\n",
    "\n",
    "- **True positives (TP)**: observations that were predicted as belonging to the positive class correctly.\n",
    "\n",
    "- **False positives (FP)**: observations that were predicted as belonging to the positive class incorrectly.\n",
    "\n",
    "- **True negatives (TN)**: observations that were predicted as belonging to the negative class correctly.\n",
    "\n",
    "- **False negatives (FN)**: observations that were predicted as belonging to the negative class incorrectly.\n",
    "\n",
    "These are all interesting in and of themselves, but they can also be combined in aggregate metrics such as:\n",
    "\n",
    "- **Accuracy**: how often are we predicting the class label?\n",
    "- **Precision**: how many of our positive outcomes are actually positive?\n",
    "- **Recall/Sensitivity**: how many of the positive outcomes are we able to recall?\n",
    "- **Fall-Out**: how many of our negative outcomes are actually positive?"
   ]
  },
  {
   "cell_type": "markdown",
   "metadata": {},
   "source": [
    "Suppose each data point in the data set represents a patient, and the class 1 represensts a patient is tested positive for a desease while 0 means tested negative. Choose a metric and report the metric score you choose for your model."
   ]
  },
  {
   "cell_type": "code",
   "execution_count": 47,
   "metadata": {},
   "outputs": [
    {
     "data": {
      "text/plain": [
       "<AxesSubplot:>"
      ]
     },
     "execution_count": 47,
     "metadata": {},
     "output_type": "execute_result"
    },
    {
     "data": {
      "image/png": "[encoded data removed]",
      "text/plain": [
       "<Figure size 720x504 with 2 Axes>"
      ]
     },
     "metadata": {
      "needs_background": "light"
     },
     "output_type": "display_data"
    }
   ],
   "source": [
    "# Draw your confusion matrix here\n",
    "from sklearn.metrics import confusion_matrix\n",
    "labels = [1, 0]\n",
    "y_predict = classify.predict(X_test)\n",
    "cm = confusion_matrix(y_true=y_test, y_pred = y_predict,labels=[1,0])\n",
    "df_cm = pd.DataFrame(cm, index = [i for i in labels],\n",
    "                  columns = [i for i in labels])\n",
    "# print(df_cm)\n",
    "plt.figure(figsize = (10,7))\n",
    "sn.heatmap(df_cm, annot=True)\n"
   ]
  },
  {
   "cell_type": "code",
   "execution_count": 48,
   "metadata": {},
   "outputs": [
    {
     "name": "stdout",
     "output_type": "stream",
     "text": [
      "Accuracy: 0.9952863820011091\n",
      "Precision: 1.0\n",
      "Recall: 0.48484848484848486\n",
      "FallOut: 0.0\n"
     ]
    }
   ],
   "source": [
    "# Calculate the metric you chose here\n",
    "Accuracy = (df_cm.loc[1][1]+df_cm.loc[0][0])/len(y_test)\n",
    "Precision = df_cm.loc[1][1]/(df_cm.loc[1][1]+df_cm.loc[0][1])\n",
    "Recall = df_cm.loc[1][1]/(df_cm.loc[1][1]+df_cm.loc[1][0])\n",
    "FallOut = df_cm.loc[0][1]/(df_cm.loc[0][1]+df_cm.loc[0][0])\n",
    "print(\"Accuracy: \"+str(Accuracy))\n",
    "print(\"Precision: \"+str(Precision))\n",
    "print(\"Recall: \"+str(Recall))\n",
    "print(\"FallOut: \"+str(FallOut))"
   ]
  },
  {
   "cell_type": "markdown",
   "metadata": {},
   "source": [
    "### Question: Is the metric you chose higher is better or lower is better in this situation? What would you say about your model using the metric you chose?\n",
    "For medical diganoise, the recall and fallout metric is more important, the recall higher is better and the fallout lower is better. If we focus on recall and fallout values, the model may have a bad performance on precision performance."
   ]
  },
  {
   "cell_type": "code",
   "execution_count": null,
   "metadata": {},
   "outputs": [],
   "source": []
  }
 ],
 "metadata": {
  "kernelspec": {
   "display_name": "Python [conda env:root] *",
   "language": "python",
   "name": "conda-root-py"
  },
  "language_info": {
   "codemirror_mode": {
    "name": "ipython",
    "version": 3
   },
   "file_extension": ".py",
   "mimetype": "text/x-python",
   "name": "python",
   "nbconvert_exporter": "python",
   "pygments_lexer": "ipython3",
   "version": "3.7.3"
  }
 },
 "nbformat": 4,
 "nbformat_minor": 4
}
